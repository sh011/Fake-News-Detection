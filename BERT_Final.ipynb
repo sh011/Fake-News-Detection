{
  "nbformat": 4,
  "nbformat_minor": 0,
  "metadata": {
    "accelerator": "GPU",
    "colab": {
      "name": "BERT Final.ipynb",
      "provenance": [],
      "collapsed_sections": [],
      "toc_visible": true,
      "machine_shape": "hm"
    },
    "kernelspec": {
      "display_name": "Python 3",
      "language": "python",
      "name": "python3"
    },
    "language_info": {
      "codemirror_mode": {
        "name": "ipython",
        "version": 3
      },
      "file_extension": ".py",
      "mimetype": "text/x-python",
      "name": "python",
      "nbconvert_exporter": "python",
      "pygments_lexer": "ipython3",
      "version": "3.7.5"
    },
    "widgets": {
      "application/vnd.jupyter.widget-state+json": {
        "0c8059594f7c4f948c1c84c84322d269": {
          "model_module": "@jupyter-widgets/controls",
          "model_name": "HBoxModel",
          "state": {
            "_view_name": "HBoxView",
            "_dom_classes": [],
            "_model_name": "HBoxModel",
            "_view_module": "@jupyter-widgets/controls",
            "_model_module_version": "1.5.0",
            "_view_count": null,
            "_view_module_version": "1.5.0",
            "box_style": "",
            "layout": "IPY_MODEL_accb448f6d6042a8887b2c7895b200f1",
            "_model_module": "@jupyter-widgets/controls",
            "children": [
              "IPY_MODEL_d1c0606e11424635b167a70ed9ac17b0",
              "IPY_MODEL_60bb06f88c29430893b298aee3779fa8"
            ]
          }
        },
        "accb448f6d6042a8887b2c7895b200f1": {
          "model_module": "@jupyter-widgets/base",
          "model_name": "LayoutModel",
          "state": {
            "_view_name": "LayoutView",
            "grid_template_rows": null,
            "right": null,
            "justify_content": null,
            "_view_module": "@jupyter-widgets/base",
            "overflow": null,
            "_model_module_version": "1.2.0",
            "_view_count": null,
            "flex_flow": null,
            "width": null,
            "min_width": null,
            "border": null,
            "align_items": null,
            "bottom": null,
            "_model_module": "@jupyter-widgets/base",
            "top": null,
            "grid_column": null,
            "overflow_y": null,
            "overflow_x": null,
            "grid_auto_flow": null,
            "grid_area": null,
            "grid_template_columns": null,
            "flex": null,
            "_model_name": "LayoutModel",
            "justify_items": null,
            "grid_row": null,
            "max_height": null,
            "align_content": null,
            "visibility": null,
            "align_self": null,
            "height": null,
            "min_height": null,
            "padding": null,
            "grid_auto_rows": null,
            "grid_gap": null,
            "max_width": null,
            "order": null,
            "_view_module_version": "1.2.0",
            "grid_template_areas": null,
            "object_position": null,
            "object_fit": null,
            "grid_auto_columns": null,
            "margin": null,
            "display": null,
            "left": null
          }
        },
        "d1c0606e11424635b167a70ed9ac17b0": {
          "model_module": "@jupyter-widgets/controls",
          "model_name": "FloatProgressModel",
          "state": {
            "_view_name": "ProgressView",
            "style": "IPY_MODEL_e0016502be7e4e3591175cbd144bca0b",
            "_dom_classes": [],
            "description": "Downloading: 100%",
            "_model_name": "FloatProgressModel",
            "bar_style": "success",
            "max": 213450,
            "_view_module": "@jupyter-widgets/controls",
            "_model_module_version": "1.5.0",
            "value": 213450,
            "_view_count": null,
            "_view_module_version": "1.5.0",
            "orientation": "horizontal",
            "min": 0,
            "description_tooltip": null,
            "_model_module": "@jupyter-widgets/controls",
            "layout": "IPY_MODEL_c298791c963f4a3fb8dc5bf14d5c28f8"
          }
        },
        "60bb06f88c29430893b298aee3779fa8": {
          "model_module": "@jupyter-widgets/controls",
          "model_name": "HTMLModel",
          "state": {
            "_view_name": "HTMLView",
            "style": "IPY_MODEL_d4d7d741a4d24faa945b297eda5477f7",
            "_dom_classes": [],
            "description": "",
            "_model_name": "HTMLModel",
            "placeholder": "​",
            "_view_module": "@jupyter-widgets/controls",
            "_model_module_version": "1.5.0",
            "value": " 213k/213k [00:00&lt;00:00, 2.22MB/s]",
            "_view_count": null,
            "_view_module_version": "1.5.0",
            "description_tooltip": null,
            "_model_module": "@jupyter-widgets/controls",
            "layout": "IPY_MODEL_e70413670c61422a9ee39bba0f978630"
          }
        },
        "e0016502be7e4e3591175cbd144bca0b": {
          "model_module": "@jupyter-widgets/controls",
          "model_name": "ProgressStyleModel",
          "state": {
            "_view_name": "StyleView",
            "_model_name": "ProgressStyleModel",
            "description_width": "initial",
            "_view_module": "@jupyter-widgets/base",
            "_model_module_version": "1.5.0",
            "_view_count": null,
            "_view_module_version": "1.2.0",
            "bar_color": null,
            "_model_module": "@jupyter-widgets/controls"
          }
        },
        "c298791c963f4a3fb8dc5bf14d5c28f8": {
          "model_module": "@jupyter-widgets/base",
          "model_name": "LayoutModel",
          "state": {
            "_view_name": "LayoutView",
            "grid_template_rows": null,
            "right": null,
            "justify_content": null,
            "_view_module": "@jupyter-widgets/base",
            "overflow": null,
            "_model_module_version": "1.2.0",
            "_view_count": null,
            "flex_flow": null,
            "width": null,
            "min_width": null,
            "border": null,
            "align_items": null,
            "bottom": null,
            "_model_module": "@jupyter-widgets/base",
            "top": null,
            "grid_column": null,
            "overflow_y": null,
            "overflow_x": null,
            "grid_auto_flow": null,
            "grid_area": null,
            "grid_template_columns": null,
            "flex": null,
            "_model_name": "LayoutModel",
            "justify_items": null,
            "grid_row": null,
            "max_height": null,
            "align_content": null,
            "visibility": null,
            "align_self": null,
            "height": null,
            "min_height": null,
            "padding": null,
            "grid_auto_rows": null,
            "grid_gap": null,
            "max_width": null,
            "order": null,
            "_view_module_version": "1.2.0",
            "grid_template_areas": null,
            "object_position": null,
            "object_fit": null,
            "grid_auto_columns": null,
            "margin": null,
            "display": null,
            "left": null
          }
        },
        "d4d7d741a4d24faa945b297eda5477f7": {
          "model_module": "@jupyter-widgets/controls",
          "model_name": "DescriptionStyleModel",
          "state": {
            "_view_name": "StyleView",
            "_model_name": "DescriptionStyleModel",
            "description_width": "",
            "_view_module": "@jupyter-widgets/base",
            "_model_module_version": "1.5.0",
            "_view_count": null,
            "_view_module_version": "1.2.0",
            "_model_module": "@jupyter-widgets/controls"
          }
        },
        "e70413670c61422a9ee39bba0f978630": {
          "model_module": "@jupyter-widgets/base",
          "model_name": "LayoutModel",
          "state": {
            "_view_name": "LayoutView",
            "grid_template_rows": null,
            "right": null,
            "justify_content": null,
            "_view_module": "@jupyter-widgets/base",
            "overflow": null,
            "_model_module_version": "1.2.0",
            "_view_count": null,
            "flex_flow": null,
            "width": null,
            "min_width": null,
            "border": null,
            "align_items": null,
            "bottom": null,
            "_model_module": "@jupyter-widgets/base",
            "top": null,
            "grid_column": null,
            "overflow_y": null,
            "overflow_x": null,
            "grid_auto_flow": null,
            "grid_area": null,
            "grid_template_columns": null,
            "flex": null,
            "_model_name": "LayoutModel",
            "justify_items": null,
            "grid_row": null,
            "max_height": null,
            "align_content": null,
            "visibility": null,
            "align_self": null,
            "height": null,
            "min_height": null,
            "padding": null,
            "grid_auto_rows": null,
            "grid_gap": null,
            "max_width": null,
            "order": null,
            "_view_module_version": "1.2.0",
            "grid_template_areas": null,
            "object_position": null,
            "object_fit": null,
            "grid_auto_columns": null,
            "margin": null,
            "display": null,
            "left": null
          }
        },
        "3e45f57744b6487f84631b4745e3ab6d": {
          "model_module": "@jupyter-widgets/controls",
          "model_name": "HBoxModel",
          "state": {
            "_view_name": "HBoxView",
            "_dom_classes": [],
            "_model_name": "HBoxModel",
            "_view_module": "@jupyter-widgets/controls",
            "_model_module_version": "1.5.0",
            "_view_count": null,
            "_view_module_version": "1.5.0",
            "box_style": "",
            "layout": "IPY_MODEL_256e9d80a6994a08973fb1b835a4fd0c",
            "_model_module": "@jupyter-widgets/controls",
            "children": [
              "IPY_MODEL_27ee89b702c542e994940100fc8b9586",
              "IPY_MODEL_5d3aad755d54496595c614f26be7bbf1"
            ]
          }
        },
        "256e9d80a6994a08973fb1b835a4fd0c": {
          "model_module": "@jupyter-widgets/base",
          "model_name": "LayoutModel",
          "state": {
            "_view_name": "LayoutView",
            "grid_template_rows": null,
            "right": null,
            "justify_content": null,
            "_view_module": "@jupyter-widgets/base",
            "overflow": null,
            "_model_module_version": "1.2.0",
            "_view_count": null,
            "flex_flow": null,
            "width": null,
            "min_width": null,
            "border": null,
            "align_items": null,
            "bottom": null,
            "_model_module": "@jupyter-widgets/base",
            "top": null,
            "grid_column": null,
            "overflow_y": null,
            "overflow_x": null,
            "grid_auto_flow": null,
            "grid_area": null,
            "grid_template_columns": null,
            "flex": null,
            "_model_name": "LayoutModel",
            "justify_items": null,
            "grid_row": null,
            "max_height": null,
            "align_content": null,
            "visibility": null,
            "align_self": null,
            "height": null,
            "min_height": null,
            "padding": null,
            "grid_auto_rows": null,
            "grid_gap": null,
            "max_width": null,
            "order": null,
            "_view_module_version": "1.2.0",
            "grid_template_areas": null,
            "object_position": null,
            "object_fit": null,
            "grid_auto_columns": null,
            "margin": null,
            "display": null,
            "left": null
          }
        },
        "27ee89b702c542e994940100fc8b9586": {
          "model_module": "@jupyter-widgets/controls",
          "model_name": "FloatProgressModel",
          "state": {
            "_view_name": "ProgressView",
            "style": "IPY_MODEL_4e517c9c3a2d40e989c5432f97a35d59",
            "_dom_classes": [],
            "description": "Downloading: 100%",
            "_model_name": "FloatProgressModel",
            "bar_style": "success",
            "max": 433,
            "_view_module": "@jupyter-widgets/controls",
            "_model_module_version": "1.5.0",
            "value": 433,
            "_view_count": null,
            "_view_module_version": "1.5.0",
            "orientation": "horizontal",
            "min": 0,
            "description_tooltip": null,
            "_model_module": "@jupyter-widgets/controls",
            "layout": "IPY_MODEL_9cada1f9228f4c6c8c5c84af07420e0d"
          }
        },
        "5d3aad755d54496595c614f26be7bbf1": {
          "model_module": "@jupyter-widgets/controls",
          "model_name": "HTMLModel",
          "state": {
            "_view_name": "HTMLView",
            "style": "IPY_MODEL_3698470eadac4b5fbd9b24e1f2bd956d",
            "_dom_classes": [],
            "description": "",
            "_model_name": "HTMLModel",
            "placeholder": "​",
            "_view_module": "@jupyter-widgets/controls",
            "_model_module_version": "1.5.0",
            "value": " 433/433 [00:00&lt;00:00, 1.31kB/s]",
            "_view_count": null,
            "_view_module_version": "1.5.0",
            "description_tooltip": null,
            "_model_module": "@jupyter-widgets/controls",
            "layout": "IPY_MODEL_a8ef2590f5574f66b5c1dfdf4864ea9b"
          }
        },
        "4e517c9c3a2d40e989c5432f97a35d59": {
          "model_module": "@jupyter-widgets/controls",
          "model_name": "ProgressStyleModel",
          "state": {
            "_view_name": "StyleView",
            "_model_name": "ProgressStyleModel",
            "description_width": "initial",
            "_view_module": "@jupyter-widgets/base",
            "_model_module_version": "1.5.0",
            "_view_count": null,
            "_view_module_version": "1.2.0",
            "bar_color": null,
            "_model_module": "@jupyter-widgets/controls"
          }
        },
        "9cada1f9228f4c6c8c5c84af07420e0d": {
          "model_module": "@jupyter-widgets/base",
          "model_name": "LayoutModel",
          "state": {
            "_view_name": "LayoutView",
            "grid_template_rows": null,
            "right": null,
            "justify_content": null,
            "_view_module": "@jupyter-widgets/base",
            "overflow": null,
            "_model_module_version": "1.2.0",
            "_view_count": null,
            "flex_flow": null,
            "width": null,
            "min_width": null,
            "border": null,
            "align_items": null,
            "bottom": null,
            "_model_module": "@jupyter-widgets/base",
            "top": null,
            "grid_column": null,
            "overflow_y": null,
            "overflow_x": null,
            "grid_auto_flow": null,
            "grid_area": null,
            "grid_template_columns": null,
            "flex": null,
            "_model_name": "LayoutModel",
            "justify_items": null,
            "grid_row": null,
            "max_height": null,
            "align_content": null,
            "visibility": null,
            "align_self": null,
            "height": null,
            "min_height": null,
            "padding": null,
            "grid_auto_rows": null,
            "grid_gap": null,
            "max_width": null,
            "order": null,
            "_view_module_version": "1.2.0",
            "grid_template_areas": null,
            "object_position": null,
            "object_fit": null,
            "grid_auto_columns": null,
            "margin": null,
            "display": null,
            "left": null
          }
        },
        "3698470eadac4b5fbd9b24e1f2bd956d": {
          "model_module": "@jupyter-widgets/controls",
          "model_name": "DescriptionStyleModel",
          "state": {
            "_view_name": "StyleView",
            "_model_name": "DescriptionStyleModel",
            "description_width": "",
            "_view_module": "@jupyter-widgets/base",
            "_model_module_version": "1.5.0",
            "_view_count": null,
            "_view_module_version": "1.2.0",
            "_model_module": "@jupyter-widgets/controls"
          }
        },
        "a8ef2590f5574f66b5c1dfdf4864ea9b": {
          "model_module": "@jupyter-widgets/base",
          "model_name": "LayoutModel",
          "state": {
            "_view_name": "LayoutView",
            "grid_template_rows": null,
            "right": null,
            "justify_content": null,
            "_view_module": "@jupyter-widgets/base",
            "overflow": null,
            "_model_module_version": "1.2.0",
            "_view_count": null,
            "flex_flow": null,
            "width": null,
            "min_width": null,
            "border": null,
            "align_items": null,
            "bottom": null,
            "_model_module": "@jupyter-widgets/base",
            "top": null,
            "grid_column": null,
            "overflow_y": null,
            "overflow_x": null,
            "grid_auto_flow": null,
            "grid_area": null,
            "grid_template_columns": null,
            "flex": null,
            "_model_name": "LayoutModel",
            "justify_items": null,
            "grid_row": null,
            "max_height": null,
            "align_content": null,
            "visibility": null,
            "align_self": null,
            "height": null,
            "min_height": null,
            "padding": null,
            "grid_auto_rows": null,
            "grid_gap": null,
            "max_width": null,
            "order": null,
            "_view_module_version": "1.2.0",
            "grid_template_areas": null,
            "object_position": null,
            "object_fit": null,
            "grid_auto_columns": null,
            "margin": null,
            "display": null,
            "left": null
          }
        },
        "07561452df0e458b80c5db72d9730c5e": {
          "model_module": "@jupyter-widgets/controls",
          "model_name": "HBoxModel",
          "state": {
            "_view_name": "HBoxView",
            "_dom_classes": [],
            "_model_name": "HBoxModel",
            "_view_module": "@jupyter-widgets/controls",
            "_model_module_version": "1.5.0",
            "_view_count": null,
            "_view_module_version": "1.5.0",
            "box_style": "",
            "layout": "IPY_MODEL_2e50645177c344288d7b0f71328bb7f5",
            "_model_module": "@jupyter-widgets/controls",
            "children": [
              "IPY_MODEL_6195227bac914c20a0bc796c6845c6da",
              "IPY_MODEL_a5d53e252c234dc28280089eb6fc091d"
            ]
          }
        },
        "2e50645177c344288d7b0f71328bb7f5": {
          "model_module": "@jupyter-widgets/base",
          "model_name": "LayoutModel",
          "state": {
            "_view_name": "LayoutView",
            "grid_template_rows": null,
            "right": null,
            "justify_content": null,
            "_view_module": "@jupyter-widgets/base",
            "overflow": null,
            "_model_module_version": "1.2.0",
            "_view_count": null,
            "flex_flow": null,
            "width": null,
            "min_width": null,
            "border": null,
            "align_items": null,
            "bottom": null,
            "_model_module": "@jupyter-widgets/base",
            "top": null,
            "grid_column": null,
            "overflow_y": null,
            "overflow_x": null,
            "grid_auto_flow": null,
            "grid_area": null,
            "grid_template_columns": null,
            "flex": null,
            "_model_name": "LayoutModel",
            "justify_items": null,
            "grid_row": null,
            "max_height": null,
            "align_content": null,
            "visibility": null,
            "align_self": null,
            "height": null,
            "min_height": null,
            "padding": null,
            "grid_auto_rows": null,
            "grid_gap": null,
            "max_width": null,
            "order": null,
            "_view_module_version": "1.2.0",
            "grid_template_areas": null,
            "object_position": null,
            "object_fit": null,
            "grid_auto_columns": null,
            "margin": null,
            "display": null,
            "left": null
          }
        },
        "6195227bac914c20a0bc796c6845c6da": {
          "model_module": "@jupyter-widgets/controls",
          "model_name": "FloatProgressModel",
          "state": {
            "_view_name": "ProgressView",
            "style": "IPY_MODEL_d4c85b841d594dbebaf0fc18a10c752f",
            "_dom_classes": [],
            "description": "Downloading: 100%",
            "_model_name": "FloatProgressModel",
            "bar_style": "success",
            "max": 435779157,
            "_view_module": "@jupyter-widgets/controls",
            "_model_module_version": "1.5.0",
            "value": 435779157,
            "_view_count": null,
            "_view_module_version": "1.5.0",
            "orientation": "horizontal",
            "min": 0,
            "description_tooltip": null,
            "_model_module": "@jupyter-widgets/controls",
            "layout": "IPY_MODEL_479db94082434718afe72dc6aea97789"
          }
        },
        "a5d53e252c234dc28280089eb6fc091d": {
          "model_module": "@jupyter-widgets/controls",
          "model_name": "HTMLModel",
          "state": {
            "_view_name": "HTMLView",
            "style": "IPY_MODEL_844a31354ce54fe4808ced7227dcbc50",
            "_dom_classes": [],
            "description": "",
            "_model_name": "HTMLModel",
            "placeholder": "​",
            "_view_module": "@jupyter-widgets/controls",
            "_model_module_version": "1.5.0",
            "value": " 436M/436M [00:22&lt;00:00, 19.5MB/s]",
            "_view_count": null,
            "_view_module_version": "1.5.0",
            "description_tooltip": null,
            "_model_module": "@jupyter-widgets/controls",
            "layout": "IPY_MODEL_2f8dc94cfed842e1926cf03672c1f6db"
          }
        },
        "d4c85b841d594dbebaf0fc18a10c752f": {
          "model_module": "@jupyter-widgets/controls",
          "model_name": "ProgressStyleModel",
          "state": {
            "_view_name": "StyleView",
            "_model_name": "ProgressStyleModel",
            "description_width": "initial",
            "_view_module": "@jupyter-widgets/base",
            "_model_module_version": "1.5.0",
            "_view_count": null,
            "_view_module_version": "1.2.0",
            "bar_color": null,
            "_model_module": "@jupyter-widgets/controls"
          }
        },
        "479db94082434718afe72dc6aea97789": {
          "model_module": "@jupyter-widgets/base",
          "model_name": "LayoutModel",
          "state": {
            "_view_name": "LayoutView",
            "grid_template_rows": null,
            "right": null,
            "justify_content": null,
            "_view_module": "@jupyter-widgets/base",
            "overflow": null,
            "_model_module_version": "1.2.0",
            "_view_count": null,
            "flex_flow": null,
            "width": null,
            "min_width": null,
            "border": null,
            "align_items": null,
            "bottom": null,
            "_model_module": "@jupyter-widgets/base",
            "top": null,
            "grid_column": null,
            "overflow_y": null,
            "overflow_x": null,
            "grid_auto_flow": null,
            "grid_area": null,
            "grid_template_columns": null,
            "flex": null,
            "_model_name": "LayoutModel",
            "justify_items": null,
            "grid_row": null,
            "max_height": null,
            "align_content": null,
            "visibility": null,
            "align_self": null,
            "height": null,
            "min_height": null,
            "padding": null,
            "grid_auto_rows": null,
            "grid_gap": null,
            "max_width": null,
            "order": null,
            "_view_module_version": "1.2.0",
            "grid_template_areas": null,
            "object_position": null,
            "object_fit": null,
            "grid_auto_columns": null,
            "margin": null,
            "display": null,
            "left": null
          }
        },
        "844a31354ce54fe4808ced7227dcbc50": {
          "model_module": "@jupyter-widgets/controls",
          "model_name": "DescriptionStyleModel",
          "state": {
            "_view_name": "StyleView",
            "_model_name": "DescriptionStyleModel",
            "description_width": "",
            "_view_module": "@jupyter-widgets/base",
            "_model_module_version": "1.5.0",
            "_view_count": null,
            "_view_module_version": "1.2.0",
            "_model_module": "@jupyter-widgets/controls"
          }
        },
        "2f8dc94cfed842e1926cf03672c1f6db": {
          "model_module": "@jupyter-widgets/base",
          "model_name": "LayoutModel",
          "state": {
            "_view_name": "LayoutView",
            "grid_template_rows": null,
            "right": null,
            "justify_content": null,
            "_view_module": "@jupyter-widgets/base",
            "overflow": null,
            "_model_module_version": "1.2.0",
            "_view_count": null,
            "flex_flow": null,
            "width": null,
            "min_width": null,
            "border": null,
            "align_items": null,
            "bottom": null,
            "_model_module": "@jupyter-widgets/base",
            "top": null,
            "grid_column": null,
            "overflow_y": null,
            "overflow_x": null,
            "grid_auto_flow": null,
            "grid_area": null,
            "grid_template_columns": null,
            "flex": null,
            "_model_name": "LayoutModel",
            "justify_items": null,
            "grid_row": null,
            "max_height": null,
            "align_content": null,
            "visibility": null,
            "align_self": null,
            "height": null,
            "min_height": null,
            "padding": null,
            "grid_auto_rows": null,
            "grid_gap": null,
            "max_width": null,
            "order": null,
            "_view_module_version": "1.2.0",
            "grid_template_areas": null,
            "object_position": null,
            "object_fit": null,
            "grid_auto_columns": null,
            "margin": null,
            "display": null,
            "left": null
          }
        }
      }
    }
  },
  "cells": [
    {
      "cell_type": "code",
      "metadata": {
        "id": "xd54-OCFdLcW"
      },
      "source": [
        "# from google.colab import files\n",
        "# uploaded = files.upload()"
      ],
      "execution_count": 4,
      "outputs": []
    },
    {
      "cell_type": "code",
      "metadata": {
        "id": "41J6PcG2R1fO"
      },
      "source": [
        "import pandas as pd\n",
        "import numpy as np\n",
        "import torch\n",
        "import torch.nn as nn\n",
        "from sklearn.model_selection import train_test_split\n",
        "import torch.utils.data as data_utils\n",
        "import torch.optim as optim\n",
        "import gc #garbage collector for gpu memory \n",
        "from tqdm import tqdm\n",
        "from torchsummary import summary"
      ],
      "execution_count": 5,
      "outputs": []
    },
    {
      "cell_type": "code",
      "metadata": {
        "id": "jRBdt1pUB-vE"
      },
      "source": [
        "# Preprocessing\n",
        "#libraries\n",
        "import matplotlib.pyplot as plt\n",
        "import re\n",
        "\n",
        "train = pd.read_csv('/content/train.csv').fillna(' ')\n",
        "valid = pd.read_csv('/content/val.csv').fillna(' ')"
      ],
      "execution_count": null,
      "outputs": []
    },
    {
      "cell_type": "code",
      "metadata": {
        "colab": {
          "base_uri": "https://localhost:8080/"
        },
        "id": "8Y0FutMndcHd",
        "outputId": "96c88547-ccad-410b-99b9-c8f01e3d9efb"
      },
      "source": [
        "# Create a list of punctuation marks\n",
        "puncts = [',', '.', '\"', ':', ')', '(', '-', '!', '?', '|', ';', \"'\", '$', '&', '/', '[', ']', '>', '%', '=', '#', '*', '+', '\\\\', '•',  '~', '@', '£', \n",
        " '·', '_', '{', '}', '©', '^', '®', '`',  '<', '→', '°', '€', '™', '›',  '♥', '←', '×', '§', '″', '′', 'Â', '█', '½', 'à', '…', \n",
        " '“', '★', '”', '–', '●', 'â', '►', '−', '¢', '²', '¬', '░', '¶', '↑', '±', '¿', '▾', '═', '¦', '║', '―', '¥', '▓', '—', '‹', '─', \n",
        " '▒', '：', '¼', '⊕', '▼', '▪', '†', '■', '’', '▀', '¨', '▄', '♫', '☆', 'é', '¯', '♦', '¤', '▲', 'è', '¸', '¾', 'Ã', '⋅', '‘', '∞', \n",
        " '∙', '）', '↓', '、', '│', '（', '»', '，', '♪', '╩', '╚', '³', '・', '╦', '╣', '╔', '╗', '▬', '❤', 'ï', 'Ø', '¹', '≤', '‡', '√','#']\n",
        "\n",
        "# Code to replace punctuations with whitespaces\n",
        "def clean_text(x):\n",
        "    x = str(x)\n",
        "    for punct in puncts:\n",
        "        if punct in x:\n",
        "            x = x.replace(punct, ' ')\n",
        "    return x\n",
        "\n",
        "# Cleaning URLs, twitter user_handles, punctuations, whitespaces and converting to lowercase\n",
        "# Training  Data\n",
        "train['tweet'] = train['tweet'].apply(lambda x: re.sub(r'http\\S+', '', x))\n",
        "train['tweet'] = train['tweet'].apply(lambda x: re.sub(\"([^0-9A-Za-z \\t])|(\\w+:\\/\\/\\S+)\", '', x))\n",
        "train['tweet'] = train['tweet'].apply(lambda x: clean_text(x))\n",
        "# train['tweet'] = train['tweet'].str.lower()\n",
        "# train['tweet'] = train['tweet'].apply(lambda x: x.split())\n",
        "\n",
        "print(train.head())\n",
        "\n",
        "# Validation  Data\n",
        "valid['tweet'] = valid['tweet'].apply(lambda x: re.sub(r'http\\S+', '', x))\n",
        "valid['tweet'] = valid['tweet'].apply(lambda x: re.sub(\"([^0-9A-Za-z \\t])|(\\w+:\\/\\/\\S+)*\", '', x))\n",
        "valid['tweet'] = valid['tweet'].apply(lambda x: clean_text(x))\n",
        "# valid['tweet'] = valid['tweet'].str.lower()\n",
        "# valid['tweet'] = valid['tweet'].apply(lambda x: x.split())\n",
        "\n",
        "\n",
        "print(valid.head())"
      ],
      "execution_count": 7,
      "outputs": [
        {
          "output_type": "stream",
          "text": [
            "   id                                              tweet label\n",
            "0   1  The CDC currently reports 99031 deaths In gene...  real\n",
            "1   2  States reported 1121 deaths a small rise from ...  real\n",
            "2   3  Politically Correct Woman Almost Uses Pandemic...  fake\n",
            "3   4  IndiaFightsCorona We have 1524 COVID testing l...  real\n",
            "4   5  Populous states can generate large case counts...  real\n",
            "   id                                              tweet label\n",
            "0   1  Chinese converting to Islam after realising th...  fake\n",
            "1   2  11 out of 13 people from the Diamond Princess ...  fake\n",
            "2   3  COVID19 Is Caused By A Bacterium Not Virus And...  fake\n",
            "3   4  Mike Pence in RNC speech praises Donald Trumps...  fake\n",
            "4   5  610 Skys EdConwaySky explains the latest COVID...  real\n"
          ],
          "name": "stdout"
        }
      ]
    },
    {
      "cell_type": "markdown",
      "metadata": {
        "id": "miCTWgjqTmOu"
      },
      "source": [
        "#### BERT package (transformers)"
      ]
    },
    {
      "cell_type": "code",
      "metadata": {
        "id": "dkdmK8PvdtV5"
      },
      "source": [
        "%%capture\n",
        "!pip install transformers~=2.11.0\n",
        "# !pip install transformers"
      ],
      "execution_count": 8,
      "outputs": []
    },
    {
      "cell_type": "markdown",
      "metadata": {
        "id": "N1xJfKjrpdDa"
      },
      "source": [
        "#### BERT PyTorch"
      ]
    },
    {
      "cell_type": "code",
      "metadata": {
        "id": "vAnUF7Q1TK9t"
      },
      "source": [
        "%%capture\n",
        "from transformers import BertForSequenceClassification, BertTokenizer\n",
        "device = torch.device(\"cuda:0\" if torch.cuda.is_available() else \"cpu\")"
      ],
      "execution_count": 9,
      "outputs": []
    },
    {
      "cell_type": "code",
      "metadata": {
        "id": "7UtncyxgTL0C"
      },
      "source": [
        "train.columns = ['id','tweet','label']\n",
        "del train['id']"
      ],
      "execution_count": 10,
      "outputs": []
    },
    {
      "cell_type": "markdown",
      "metadata": {
        "id": "xHvsxeI9Lrm6"
      },
      "source": [
        "#### This is a preview of the data once the irrelevant columns have been removed. "
      ]
    },
    {
      "cell_type": "code",
      "metadata": {
        "id": "BIjmluGoLoAd",
        "colab": {
          "base_uri": "https://localhost:8080/",
          "height": 343
        },
        "outputId": "67046e37-8379-43ad-e0a7-8c4ab877a93b"
      },
      "source": [
        "train.head(10)"
      ],
      "execution_count": 11,
      "outputs": [
        {
          "output_type": "execute_result",
          "data": {
            "text/html": [
              "<div>\n",
              "<style scoped>\n",
              "    .dataframe tbody tr th:only-of-type {\n",
              "        vertical-align: middle;\n",
              "    }\n",
              "\n",
              "    .dataframe tbody tr th {\n",
              "        vertical-align: top;\n",
              "    }\n",
              "\n",
              "    .dataframe thead th {\n",
              "        text-align: right;\n",
              "    }\n",
              "</style>\n",
              "<table border=\"1\" class=\"dataframe\">\n",
              "  <thead>\n",
              "    <tr style=\"text-align: right;\">\n",
              "      <th></th>\n",
              "      <th>tweet</th>\n",
              "      <th>label</th>\n",
              "    </tr>\n",
              "  </thead>\n",
              "  <tbody>\n",
              "    <tr>\n",
              "      <th>0</th>\n",
              "      <td>The CDC currently reports 99031 deaths In gene...</td>\n",
              "      <td>real</td>\n",
              "    </tr>\n",
              "    <tr>\n",
              "      <th>1</th>\n",
              "      <td>States reported 1121 deaths a small rise from ...</td>\n",
              "      <td>real</td>\n",
              "    </tr>\n",
              "    <tr>\n",
              "      <th>2</th>\n",
              "      <td>Politically Correct Woman Almost Uses Pandemic...</td>\n",
              "      <td>fake</td>\n",
              "    </tr>\n",
              "    <tr>\n",
              "      <th>3</th>\n",
              "      <td>IndiaFightsCorona We have 1524 COVID testing l...</td>\n",
              "      <td>real</td>\n",
              "    </tr>\n",
              "    <tr>\n",
              "      <th>4</th>\n",
              "      <td>Populous states can generate large case counts...</td>\n",
              "      <td>real</td>\n",
              "    </tr>\n",
              "    <tr>\n",
              "      <th>5</th>\n",
              "      <td>Covid Act Now found on average each person in ...</td>\n",
              "      <td>real</td>\n",
              "    </tr>\n",
              "    <tr>\n",
              "      <th>6</th>\n",
              "      <td>If you tested positive for COVID19 and have no...</td>\n",
              "      <td>real</td>\n",
              "    </tr>\n",
              "    <tr>\n",
              "      <th>7</th>\n",
              "      <td>Obama Calls Trumps Coronavirus Response A Chao...</td>\n",
              "      <td>fake</td>\n",
              "    </tr>\n",
              "    <tr>\n",
              "      <th>8</th>\n",
              "      <td>Clearly the Obama administration did not leave...</td>\n",
              "      <td>fake</td>\n",
              "    </tr>\n",
              "    <tr>\n",
              "      <th>9</th>\n",
              "      <td>RetractionHydroxychloroquine or chloroquine wi...</td>\n",
              "      <td>fake</td>\n",
              "    </tr>\n",
              "  </tbody>\n",
              "</table>\n",
              "</div>"
            ],
            "text/plain": [
              "                                               tweet label\n",
              "0  The CDC currently reports 99031 deaths In gene...  real\n",
              "1  States reported 1121 deaths a small rise from ...  real\n",
              "2  Politically Correct Woman Almost Uses Pandemic...  fake\n",
              "3  IndiaFightsCorona We have 1524 COVID testing l...  real\n",
              "4  Populous states can generate large case counts...  real\n",
              "5  Covid Act Now found on average each person in ...  real\n",
              "6  If you tested positive for COVID19 and have no...  real\n",
              "7  Obama Calls Trumps Coronavirus Response A Chao...  fake\n",
              "8  Clearly the Obama administration did not leave...  fake\n",
              "9  RetractionHydroxychloroquine or chloroquine wi...  fake"
            ]
          },
          "metadata": {
            "tags": []
          },
          "execution_count": 11
        }
      ]
    },
    {
      "cell_type": "markdown",
      "metadata": {
        "id": "mD0JNbcnqHar"
      },
      "source": [
        "#### The transformers package comes with a tokenizer for each model. We'll use the BERT tokenizer here and a BERT base model where the text isn't modified for case."
      ]
    },
    {
      "cell_type": "code",
      "metadata": {
        "id": "f7nUdh2bTUTv",
        "colab": {
          "base_uri": "https://localhost:8080/",
          "height": 66,
          "referenced_widgets": [
            "0c8059594f7c4f948c1c84c84322d269",
            "accb448f6d6042a8887b2c7895b200f1",
            "d1c0606e11424635b167a70ed9ac17b0",
            "60bb06f88c29430893b298aee3779fa8",
            "e0016502be7e4e3591175cbd144bca0b",
            "c298791c963f4a3fb8dc5bf14d5c28f8",
            "d4d7d741a4d24faa945b297eda5477f7",
            "e70413670c61422a9ee39bba0f978630"
          ]
        },
        "outputId": "27e0153d-a29c-4fc5-e6d9-bf683b1d12e5"
      },
      "source": [
        "tokenizer = BertTokenizer.from_pretrained('bert-base-cased')"
      ],
      "execution_count": 12,
      "outputs": [
        {
          "output_type": "display_data",
          "data": {
            "application/vnd.jupyter.widget-view+json": {
              "model_id": "0c8059594f7c4f948c1c84c84322d269",
              "version_minor": 0,
              "version_major": 2
            },
            "text/plain": [
              "HBox(children=(FloatProgress(value=0.0, description='Downloading', max=213450.0, style=ProgressStyle(descripti…"
            ]
          },
          "metadata": {
            "tags": []
          }
        },
        {
          "output_type": "stream",
          "text": [
            "\n"
          ],
          "name": "stdout"
        }
      ]
    },
    {
      "cell_type": "markdown",
      "metadata": {
        "id": "6UUt_BlpTwKv"
      },
      "source": [
        "#### Tokenizing the data so that each sentence is split into words and symbols. Also '[CLS]' and '[SEP]' to the beginning and end of every article."
      ]
    },
    {
      "cell_type": "code",
      "metadata": {
        "id": "fTU3g0utTWih",
        "colab": {
          "base_uri": "https://localhost:8080/"
        },
        "outputId": "530d8067-dd0b-4354-f1af-0a35d7c94af0"
      },
      "source": [
        "tokenized_df = list(map(lambda t: ['[CLS]'] + tokenizer.tokenize(t)[:510] + ['[SEP]'], train['tweet']))\n",
        "print(tokenized_df[4])"
      ],
      "execution_count": 13,
      "outputs": [
        {
          "output_type": "stream",
          "text": [
            "['[CLS]', 'Pop', '##ulous', 'states', 'can', 'generate', 'large', 'case', 'counts', 'but', 'if', 'you', 'look', 'at', 'the', 'new', 'cases', 'per', 'million', 'today', '9', 'smaller', 'states', 'are', 'showing', 'more', 'cases', 'per', 'million', 'than', 'California', 'or', 'Texas', 'AL', 'AR', 'ID', 'K', '##S', 'K', '##Y', 'LA', 'MS', 'N', '##V', 'and', 'SC', '[SEP]']\n"
          ],
          "name": "stdout"
        }
      ]
    },
    {
      "cell_type": "markdown",
      "metadata": {
        "id": "JUeF9eIgT_71"
      },
      "source": [
        "#### The max input length for a BERT algorithm is 512, so we'll have to pad each article to this length or cut it short."
      ]
    },
    {
      "cell_type": "code",
      "metadata": {
        "id": "bUH2aaTuT9mE"
      },
      "source": [
        "totalpadlength = 512"
      ],
      "execution_count": 14,
      "outputs": []
    },
    {
      "cell_type": "markdown",
      "metadata": {
        "id": "qC2N768vUOd9"
      },
      "source": [
        "#### We need to get the index for each token so that we can map them to be put in a matrix embedding."
      ]
    },
    {
      "cell_type": "code",
      "metadata": {
        "id": "u_J8Nx-3UIMN"
      },
      "source": [
        "indexed_tokens = list(map(tokenizer.convert_tokens_to_ids, tokenized_df))"
      ],
      "execution_count": 15,
      "outputs": []
    },
    {
      "cell_type": "code",
      "metadata": {
        "id": "dBO7O7InULoP",
        "colab": {
          "base_uri": "https://localhost:8080/"
        },
        "outputId": "93ac341e-ff3a-465b-ea5e-be377222b3d2"
      },
      "source": [
        "index_padded = np.array([xi+[0]*(totalpadlength-len(xi)) for xi in indexed_tokens])\n",
        "print(index_padded)"
      ],
      "execution_count": 16,
      "outputs": [
        {
          "output_type": "stream",
          "text": [
            "[[  101  1109  2891 ...     0     0     0]\n",
            " [  101  1311  2103 ...     0     0     0]\n",
            " [  101  6679  1193 ...     0     0     0]\n",
            " ...\n",
            " [  101   138  2112 ...     0     0     0]\n",
            " [  101   138 11787 ...     0     0     0]\n",
            " [  101  1135  1144 ...     0     0     0]]\n"
          ],
          "name": "stdout"
        }
      ]
    },
    {
      "cell_type": "markdown",
      "metadata": {
        "id": "HUfJOQbQU7Wp"
      },
      "source": [
        "#### Setting up an array with the binary target variable values\n",
        "* 0 = FAKE\n",
        "* 1 = REAL"
      ]
    },
    {
      "cell_type": "code",
      "metadata": {
        "id": "6fQrmWLdUeJf"
      },
      "source": [
        "target_variable = train['label'].values\n",
        "target_variable = (target_variable=='real').astype(int)"
      ],
      "execution_count": 17,
      "outputs": []
    },
    {
      "cell_type": "markdown",
      "metadata": {
        "id": "biX1BjKtVGb_"
      },
      "source": [
        "#### The BERT algorithm relies on masking to help it learn and to prevent overfitting, so we'll add this to the model."
      ]
    },
    {
      "cell_type": "code",
      "metadata": {
        "id": "mWzKFbd2VEGh"
      },
      "source": [
        "mask_variable = [[float(i>0) for i in ii] for ii in index_padded]"
      ],
      "execution_count": 18,
      "outputs": []
    },
    {
      "cell_type": "markdown",
      "metadata": {
        "id": "a8NxoJyMVPnz"
      },
      "source": [
        "#### This loads the data into train and test dataloaders"
      ]
    },
    {
      "cell_type": "code",
      "metadata": {
        "id": "0EGCS8atVN5w",
        "colab": {
          "base_uri": "https://localhost:8080/"
        },
        "outputId": "56882ae6-79db-4457-ea8d-941334ad445c"
      },
      "source": [
        "BATCH_SIZE = 14\n",
        "def format_tensors(text_data, mask, labels, batch_size):\n",
        "    X = torch.from_numpy(text_data)\n",
        "    X = X.long()\n",
        "    mask = torch.tensor(mask)\n",
        "    y = torch.from_numpy(labels)\n",
        "    y = y.long()\n",
        "    tensordata = data_utils.TensorDataset(X, mask, y)\n",
        "    loader = data_utils.DataLoader(tensordata, batch_size=batch_size, shuffle=False)\n",
        "    return loader\n",
        " \n",
        "X_train, X_test, y_train, y_test = train_test_split(index_padded, target_variable, \n",
        "                                                    test_size=2, random_state=42)\n",
        " \n",
        "train_masks, test_masks, _, _ = train_test_split(mask_variable, index_padded, \n",
        "                                                       test_size=2, random_state=42)\n",
        "print(y_train)\n",
        "trainloader = format_tensors(X_train, train_masks, y_train,BATCH_SIZE)\n",
        "testloader = format_tensors(X_test, test_masks, y_test, BATCH_SIZE)"
      ],
      "execution_count": 19,
      "outputs": [
        {
          "output_type": "stream",
          "text": [
            "[1 0 1 ... 1 0 1]\n"
          ],
          "name": "stdout"
        }
      ]
    },
    {
      "cell_type": "markdown",
      "metadata": {
        "id": "-g05NLG2VmMe"
      },
      "source": [
        "#### This is a sample batch from the trainloader. The first tensor contains the embeddings for the articles, the second tensor contains the masking information, and the third tensor contains the target variables for each article."
      ]
    },
    {
      "cell_type": "code",
      "metadata": {
        "id": "zfSbQJciVaJY",
        "colab": {
          "base_uri": "https://localhost:8080/"
        },
        "outputId": "588ea54b-e9cb-44ed-932e-dd130eeb3ab2"
      },
      "source": [
        "next(iter(trainloader))"
      ],
      "execution_count": 20,
      "outputs": [
        {
          "output_type": "execute_result",
          "data": {
            "text/plain": [
              "[tensor([[  101, 23599,  1164,  ...,     0,     0,     0],\n",
              "         [  101,  1726,  3002,  ...,     0,     0,     0],\n",
              "         [  101, 26982,  6926,  ...,     0,     0,     0],\n",
              "         ...,\n",
              "         [  101, 18732, 23314,  ...,     0,     0,     0],\n",
              "         [  101,  3497,   140,  ...,     0,     0,     0],\n",
              "         [  101,  1109,  1993,  ...,     0,     0,     0]]),\n",
              " tensor([[1., 1., 1.,  ..., 0., 0., 0.],\n",
              "         [1., 1., 1.,  ..., 0., 0., 0.],\n",
              "         [1., 1., 1.,  ..., 0., 0., 0.],\n",
              "         ...,\n",
              "         [1., 1., 1.,  ..., 0., 0., 0.],\n",
              "         [1., 1., 1.,  ..., 0., 0., 0.],\n",
              "         [1., 1., 1.,  ..., 0., 0., 0.]]),\n",
              " tensor([1, 0, 1, 1, 1, 1, 1, 1, 1, 1, 0, 1, 0, 1])]"
            ]
          },
          "metadata": {
            "tags": []
          },
          "execution_count": 20
        }
      ]
    },
    {
      "cell_type": "markdown",
      "metadata": {
        "id": "P0zItZ3SV8Uy"
      },
      "source": [
        "#### This is a BERT base-cased model with 12 BERT transformer layers, 768 hidden layers, 12 heads, 110M parameters, and is pre-trained on cased English text.\n"
      ]
    },
    {
      "cell_type": "code",
      "metadata": {
        "id": "zMzcRtjmVghX",
        "colab": {
          "base_uri": "https://localhost:8080/",
          "height": 1000,
          "referenced_widgets": [
            "3e45f57744b6487f84631b4745e3ab6d",
            "256e9d80a6994a08973fb1b835a4fd0c",
            "27ee89b702c542e994940100fc8b9586",
            "5d3aad755d54496595c614f26be7bbf1",
            "4e517c9c3a2d40e989c5432f97a35d59",
            "9cada1f9228f4c6c8c5c84af07420e0d",
            "3698470eadac4b5fbd9b24e1f2bd956d",
            "a8ef2590f5574f66b5c1dfdf4864ea9b",
            "07561452df0e458b80c5db72d9730c5e",
            "2e50645177c344288d7b0f71328bb7f5",
            "6195227bac914c20a0bc796c6845c6da",
            "a5d53e252c234dc28280089eb6fc091d",
            "d4c85b841d594dbebaf0fc18a10c752f",
            "479db94082434718afe72dc6aea97789",
            "844a31354ce54fe4808ced7227dcbc50",
            "2f8dc94cfed842e1926cf03672c1f6db"
          ]
        },
        "outputId": "74dda184-c541-4194-f8ad-52ef8f78b302"
      },
      "source": [
        "model = BertForSequenceClassification.from_pretrained('bert-base-cased')\n",
        "model"
      ],
      "execution_count": 21,
      "outputs": [
        {
          "output_type": "display_data",
          "data": {
            "application/vnd.jupyter.widget-view+json": {
              "model_id": "3e45f57744b6487f84631b4745e3ab6d",
              "version_minor": 0,
              "version_major": 2
            },
            "text/plain": [
              "HBox(children=(FloatProgress(value=0.0, description='Downloading', max=433.0, style=ProgressStyle(description_…"
            ]
          },
          "metadata": {
            "tags": []
          }
        },
        {
          "output_type": "stream",
          "text": [
            "\n"
          ],
          "name": "stdout"
        },
        {
          "output_type": "display_data",
          "data": {
            "application/vnd.jupyter.widget-view+json": {
              "model_id": "07561452df0e458b80c5db72d9730c5e",
              "version_minor": 0,
              "version_major": 2
            },
            "text/plain": [
              "HBox(children=(FloatProgress(value=0.0, description='Downloading', max=435779157.0, style=ProgressStyle(descri…"
            ]
          },
          "metadata": {
            "tags": []
          }
        },
        {
          "output_type": "stream",
          "text": [
            "\n"
          ],
          "name": "stdout"
        },
        {
          "output_type": "execute_result",
          "data": {
            "text/plain": [
              "BertForSequenceClassification(\n",
              "  (bert): BertModel(\n",
              "    (embeddings): BertEmbeddings(\n",
              "      (word_embeddings): Embedding(28996, 768, padding_idx=0)\n",
              "      (position_embeddings): Embedding(512, 768)\n",
              "      (token_type_embeddings): Embedding(2, 768)\n",
              "      (LayerNorm): LayerNorm((768,), eps=1e-12, elementwise_affine=True)\n",
              "      (dropout): Dropout(p=0.1, inplace=False)\n",
              "    )\n",
              "    (encoder): BertEncoder(\n",
              "      (layer): ModuleList(\n",
              "        (0): BertLayer(\n",
              "          (attention): BertAttention(\n",
              "            (self): BertSelfAttention(\n",
              "              (query): Linear(in_features=768, out_features=768, bias=True)\n",
              "              (key): Linear(in_features=768, out_features=768, bias=True)\n",
              "              (value): Linear(in_features=768, out_features=768, bias=True)\n",
              "              (dropout): Dropout(p=0.1, inplace=False)\n",
              "            )\n",
              "            (output): BertSelfOutput(\n",
              "              (dense): Linear(in_features=768, out_features=768, bias=True)\n",
              "              (LayerNorm): LayerNorm((768,), eps=1e-12, elementwise_affine=True)\n",
              "              (dropout): Dropout(p=0.1, inplace=False)\n",
              "            )\n",
              "          )\n",
              "          (intermediate): BertIntermediate(\n",
              "            (dense): Linear(in_features=768, out_features=3072, bias=True)\n",
              "          )\n",
              "          (output): BertOutput(\n",
              "            (dense): Linear(in_features=3072, out_features=768, bias=True)\n",
              "            (LayerNorm): LayerNorm((768,), eps=1e-12, elementwise_affine=True)\n",
              "            (dropout): Dropout(p=0.1, inplace=False)\n",
              "          )\n",
              "        )\n",
              "        (1): BertLayer(\n",
              "          (attention): BertAttention(\n",
              "            (self): BertSelfAttention(\n",
              "              (query): Linear(in_features=768, out_features=768, bias=True)\n",
              "              (key): Linear(in_features=768, out_features=768, bias=True)\n",
              "              (value): Linear(in_features=768, out_features=768, bias=True)\n",
              "              (dropout): Dropout(p=0.1, inplace=False)\n",
              "            )\n",
              "            (output): BertSelfOutput(\n",
              "              (dense): Linear(in_features=768, out_features=768, bias=True)\n",
              "              (LayerNorm): LayerNorm((768,), eps=1e-12, elementwise_affine=True)\n",
              "              (dropout): Dropout(p=0.1, inplace=False)\n",
              "            )\n",
              "          )\n",
              "          (intermediate): BertIntermediate(\n",
              "            (dense): Linear(in_features=768, out_features=3072, bias=True)\n",
              "          )\n",
              "          (output): BertOutput(\n",
              "            (dense): Linear(in_features=3072, out_features=768, bias=True)\n",
              "            (LayerNorm): LayerNorm((768,), eps=1e-12, elementwise_affine=True)\n",
              "            (dropout): Dropout(p=0.1, inplace=False)\n",
              "          )\n",
              "        )\n",
              "        (2): BertLayer(\n",
              "          (attention): BertAttention(\n",
              "            (self): BertSelfAttention(\n",
              "              (query): Linear(in_features=768, out_features=768, bias=True)\n",
              "              (key): Linear(in_features=768, out_features=768, bias=True)\n",
              "              (value): Linear(in_features=768, out_features=768, bias=True)\n",
              "              (dropout): Dropout(p=0.1, inplace=False)\n",
              "            )\n",
              "            (output): BertSelfOutput(\n",
              "              (dense): Linear(in_features=768, out_features=768, bias=True)\n",
              "              (LayerNorm): LayerNorm((768,), eps=1e-12, elementwise_affine=True)\n",
              "              (dropout): Dropout(p=0.1, inplace=False)\n",
              "            )\n",
              "          )\n",
              "          (intermediate): BertIntermediate(\n",
              "            (dense): Linear(in_features=768, out_features=3072, bias=True)\n",
              "          )\n",
              "          (output): BertOutput(\n",
              "            (dense): Linear(in_features=3072, out_features=768, bias=True)\n",
              "            (LayerNorm): LayerNorm((768,), eps=1e-12, elementwise_affine=True)\n",
              "            (dropout): Dropout(p=0.1, inplace=False)\n",
              "          )\n",
              "        )\n",
              "        (3): BertLayer(\n",
              "          (attention): BertAttention(\n",
              "            (self): BertSelfAttention(\n",
              "              (query): Linear(in_features=768, out_features=768, bias=True)\n",
              "              (key): Linear(in_features=768, out_features=768, bias=True)\n",
              "              (value): Linear(in_features=768, out_features=768, bias=True)\n",
              "              (dropout): Dropout(p=0.1, inplace=False)\n",
              "            )\n",
              "            (output): BertSelfOutput(\n",
              "              (dense): Linear(in_features=768, out_features=768, bias=True)\n",
              "              (LayerNorm): LayerNorm((768,), eps=1e-12, elementwise_affine=True)\n",
              "              (dropout): Dropout(p=0.1, inplace=False)\n",
              "            )\n",
              "          )\n",
              "          (intermediate): BertIntermediate(\n",
              "            (dense): Linear(in_features=768, out_features=3072, bias=True)\n",
              "          )\n",
              "          (output): BertOutput(\n",
              "            (dense): Linear(in_features=3072, out_features=768, bias=True)\n",
              "            (LayerNorm): LayerNorm((768,), eps=1e-12, elementwise_affine=True)\n",
              "            (dropout): Dropout(p=0.1, inplace=False)\n",
              "          )\n",
              "        )\n",
              "        (4): BertLayer(\n",
              "          (attention): BertAttention(\n",
              "            (self): BertSelfAttention(\n",
              "              (query): Linear(in_features=768, out_features=768, bias=True)\n",
              "              (key): Linear(in_features=768, out_features=768, bias=True)\n",
              "              (value): Linear(in_features=768, out_features=768, bias=True)\n",
              "              (dropout): Dropout(p=0.1, inplace=False)\n",
              "            )\n",
              "            (output): BertSelfOutput(\n",
              "              (dense): Linear(in_features=768, out_features=768, bias=True)\n",
              "              (LayerNorm): LayerNorm((768,), eps=1e-12, elementwise_affine=True)\n",
              "              (dropout): Dropout(p=0.1, inplace=False)\n",
              "            )\n",
              "          )\n",
              "          (intermediate): BertIntermediate(\n",
              "            (dense): Linear(in_features=768, out_features=3072, bias=True)\n",
              "          )\n",
              "          (output): BertOutput(\n",
              "            (dense): Linear(in_features=3072, out_features=768, bias=True)\n",
              "            (LayerNorm): LayerNorm((768,), eps=1e-12, elementwise_affine=True)\n",
              "            (dropout): Dropout(p=0.1, inplace=False)\n",
              "          )\n",
              "        )\n",
              "        (5): BertLayer(\n",
              "          (attention): BertAttention(\n",
              "            (self): BertSelfAttention(\n",
              "              (query): Linear(in_features=768, out_features=768, bias=True)\n",
              "              (key): Linear(in_features=768, out_features=768, bias=True)\n",
              "              (value): Linear(in_features=768, out_features=768, bias=True)\n",
              "              (dropout): Dropout(p=0.1, inplace=False)\n",
              "            )\n",
              "            (output): BertSelfOutput(\n",
              "              (dense): Linear(in_features=768, out_features=768, bias=True)\n",
              "              (LayerNorm): LayerNorm((768,), eps=1e-12, elementwise_affine=True)\n",
              "              (dropout): Dropout(p=0.1, inplace=False)\n",
              "            )\n",
              "          )\n",
              "          (intermediate): BertIntermediate(\n",
              "            (dense): Linear(in_features=768, out_features=3072, bias=True)\n",
              "          )\n",
              "          (output): BertOutput(\n",
              "            (dense): Linear(in_features=3072, out_features=768, bias=True)\n",
              "            (LayerNorm): LayerNorm((768,), eps=1e-12, elementwise_affine=True)\n",
              "            (dropout): Dropout(p=0.1, inplace=False)\n",
              "          )\n",
              "        )\n",
              "        (6): BertLayer(\n",
              "          (attention): BertAttention(\n",
              "            (self): BertSelfAttention(\n",
              "              (query): Linear(in_features=768, out_features=768, bias=True)\n",
              "              (key): Linear(in_features=768, out_features=768, bias=True)\n",
              "              (value): Linear(in_features=768, out_features=768, bias=True)\n",
              "              (dropout): Dropout(p=0.1, inplace=False)\n",
              "            )\n",
              "            (output): BertSelfOutput(\n",
              "              (dense): Linear(in_features=768, out_features=768, bias=True)\n",
              "              (LayerNorm): LayerNorm((768,), eps=1e-12, elementwise_affine=True)\n",
              "              (dropout): Dropout(p=0.1, inplace=False)\n",
              "            )\n",
              "          )\n",
              "          (intermediate): BertIntermediate(\n",
              "            (dense): Linear(in_features=768, out_features=3072, bias=True)\n",
              "          )\n",
              "          (output): BertOutput(\n",
              "            (dense): Linear(in_features=3072, out_features=768, bias=True)\n",
              "            (LayerNorm): LayerNorm((768,), eps=1e-12, elementwise_affine=True)\n",
              "            (dropout): Dropout(p=0.1, inplace=False)\n",
              "          )\n",
              "        )\n",
              "        (7): BertLayer(\n",
              "          (attention): BertAttention(\n",
              "            (self): BertSelfAttention(\n",
              "              (query): Linear(in_features=768, out_features=768, bias=True)\n",
              "              (key): Linear(in_features=768, out_features=768, bias=True)\n",
              "              (value): Linear(in_features=768, out_features=768, bias=True)\n",
              "              (dropout): Dropout(p=0.1, inplace=False)\n",
              "            )\n",
              "            (output): BertSelfOutput(\n",
              "              (dense): Linear(in_features=768, out_features=768, bias=True)\n",
              "              (LayerNorm): LayerNorm((768,), eps=1e-12, elementwise_affine=True)\n",
              "              (dropout): Dropout(p=0.1, inplace=False)\n",
              "            )\n",
              "          )\n",
              "          (intermediate): BertIntermediate(\n",
              "            (dense): Linear(in_features=768, out_features=3072, bias=True)\n",
              "          )\n",
              "          (output): BertOutput(\n",
              "            (dense): Linear(in_features=3072, out_features=768, bias=True)\n",
              "            (LayerNorm): LayerNorm((768,), eps=1e-12, elementwise_affine=True)\n",
              "            (dropout): Dropout(p=0.1, inplace=False)\n",
              "          )\n",
              "        )\n",
              "        (8): BertLayer(\n",
              "          (attention): BertAttention(\n",
              "            (self): BertSelfAttention(\n",
              "              (query): Linear(in_features=768, out_features=768, bias=True)\n",
              "              (key): Linear(in_features=768, out_features=768, bias=True)\n",
              "              (value): Linear(in_features=768, out_features=768, bias=True)\n",
              "              (dropout): Dropout(p=0.1, inplace=False)\n",
              "            )\n",
              "            (output): BertSelfOutput(\n",
              "              (dense): Linear(in_features=768, out_features=768, bias=True)\n",
              "              (LayerNorm): LayerNorm((768,), eps=1e-12, elementwise_affine=True)\n",
              "              (dropout): Dropout(p=0.1, inplace=False)\n",
              "            )\n",
              "          )\n",
              "          (intermediate): BertIntermediate(\n",
              "            (dense): Linear(in_features=768, out_features=3072, bias=True)\n",
              "          )\n",
              "          (output): BertOutput(\n",
              "            (dense): Linear(in_features=3072, out_features=768, bias=True)\n",
              "            (LayerNorm): LayerNorm((768,), eps=1e-12, elementwise_affine=True)\n",
              "            (dropout): Dropout(p=0.1, inplace=False)\n",
              "          )\n",
              "        )\n",
              "        (9): BertLayer(\n",
              "          (attention): BertAttention(\n",
              "            (self): BertSelfAttention(\n",
              "              (query): Linear(in_features=768, out_features=768, bias=True)\n",
              "              (key): Linear(in_features=768, out_features=768, bias=True)\n",
              "              (value): Linear(in_features=768, out_features=768, bias=True)\n",
              "              (dropout): Dropout(p=0.1, inplace=False)\n",
              "            )\n",
              "            (output): BertSelfOutput(\n",
              "              (dense): Linear(in_features=768, out_features=768, bias=True)\n",
              "              (LayerNorm): LayerNorm((768,), eps=1e-12, elementwise_affine=True)\n",
              "              (dropout): Dropout(p=0.1, inplace=False)\n",
              "            )\n",
              "          )\n",
              "          (intermediate): BertIntermediate(\n",
              "            (dense): Linear(in_features=768, out_features=3072, bias=True)\n",
              "          )\n",
              "          (output): BertOutput(\n",
              "            (dense): Linear(in_features=3072, out_features=768, bias=True)\n",
              "            (LayerNorm): LayerNorm((768,), eps=1e-12, elementwise_affine=True)\n",
              "            (dropout): Dropout(p=0.1, inplace=False)\n",
              "          )\n",
              "        )\n",
              "        (10): BertLayer(\n",
              "          (attention): BertAttention(\n",
              "            (self): BertSelfAttention(\n",
              "              (query): Linear(in_features=768, out_features=768, bias=True)\n",
              "              (key): Linear(in_features=768, out_features=768, bias=True)\n",
              "              (value): Linear(in_features=768, out_features=768, bias=True)\n",
              "              (dropout): Dropout(p=0.1, inplace=False)\n",
              "            )\n",
              "            (output): BertSelfOutput(\n",
              "              (dense): Linear(in_features=768, out_features=768, bias=True)\n",
              "              (LayerNorm): LayerNorm((768,), eps=1e-12, elementwise_affine=True)\n",
              "              (dropout): Dropout(p=0.1, inplace=False)\n",
              "            )\n",
              "          )\n",
              "          (intermediate): BertIntermediate(\n",
              "            (dense): Linear(in_features=768, out_features=3072, bias=True)\n",
              "          )\n",
              "          (output): BertOutput(\n",
              "            (dense): Linear(in_features=3072, out_features=768, bias=True)\n",
              "            (LayerNorm): LayerNorm((768,), eps=1e-12, elementwise_affine=True)\n",
              "            (dropout): Dropout(p=0.1, inplace=False)\n",
              "          )\n",
              "        )\n",
              "        (11): BertLayer(\n",
              "          (attention): BertAttention(\n",
              "            (self): BertSelfAttention(\n",
              "              (query): Linear(in_features=768, out_features=768, bias=True)\n",
              "              (key): Linear(in_features=768, out_features=768, bias=True)\n",
              "              (value): Linear(in_features=768, out_features=768, bias=True)\n",
              "              (dropout): Dropout(p=0.1, inplace=False)\n",
              "            )\n",
              "            (output): BertSelfOutput(\n",
              "              (dense): Linear(in_features=768, out_features=768, bias=True)\n",
              "              (LayerNorm): LayerNorm((768,), eps=1e-12, elementwise_affine=True)\n",
              "              (dropout): Dropout(p=0.1, inplace=False)\n",
              "            )\n",
              "          )\n",
              "          (intermediate): BertIntermediate(\n",
              "            (dense): Linear(in_features=768, out_features=3072, bias=True)\n",
              "          )\n",
              "          (output): BertOutput(\n",
              "            (dense): Linear(in_features=3072, out_features=768, bias=True)\n",
              "            (LayerNorm): LayerNorm((768,), eps=1e-12, elementwise_affine=True)\n",
              "            (dropout): Dropout(p=0.1, inplace=False)\n",
              "          )\n",
              "        )\n",
              "      )\n",
              "    )\n",
              "    (pooler): BertPooler(\n",
              "      (dense): Linear(in_features=768, out_features=768, bias=True)\n",
              "      (activation): Tanh()\n",
              "    )\n",
              "  )\n",
              "  (dropout): Dropout(p=0.1, inplace=False)\n",
              "  (classifier): Linear(in_features=768, out_features=2, bias=True)\n",
              ")"
            ]
          },
          "metadata": {
            "tags": []
          },
          "execution_count": 21
        }
      ]
    },
    {
      "cell_type": "markdown",
      "metadata": {
        "id": "RTfAMHLqWCbm"
      },
      "source": [
        "#### Function to compute the accuracy after each epoch"
      ]
    },
    {
      "cell_type": "code",
      "metadata": {
        "id": "o8I-otafV5rn"
      },
      "source": [
        "def compute_accuracy(model, dataloader, device):\n",
        "    tqdm()\n",
        "    model.eval()\n",
        "    correct_preds, num_samples = 0,0\n",
        "    with torch.no_grad():\n",
        "        for i, batch in enumerate(tqdm(dataloader)):\n",
        "            token_ids, masks, labels = tuple(t.to(device) for t in batch)\n",
        "            _, yhat = model(input_ids=token_ids, attention_mask=masks, labels=labels)\n",
        "            prediction = (torch.sigmoid(yhat[:,1]) > 0.5).long()\n",
        "            num_samples += labels.size(0)\n",
        "            correct_preds += (prediction==labels.long()).sum()\n",
        "            del token_ids, masks, labels #memory\n",
        "        torch.cuda.empty_cache() #memory\n",
        "        gc.collect() # memory\n",
        "        return correct_preds.float()/num_samples*100"
      ],
      "execution_count": 22,
      "outputs": []
    },
    {
      "cell_type": "markdown",
      "metadata": {
        "id": "Z5SbPkIiWSup"
      },
      "source": [
        "#### Since BERT is pre-trained, we keep the learning rate low and only perform a few epochs. This prevents it from overfitting."
      ]
    },
    {
      "cell_type": "code",
      "metadata": {
        "id": "C1Bb31svWIQe",
        "colab": {
          "base_uri": "https://localhost:8080/"
        },
        "outputId": "5045eaa1-82ba-440f-9160-442bb5512ccd"
      },
      "source": [
        "device = torch.device(\"cuda:0\" if torch.cuda.is_available() else \"cpu\")\n",
        "torch.cuda.empty_cache() #memory\n",
        "gc.collect() #memory\n",
        "NUM_EPOCHS = 5\n",
        "loss_function = nn.BCEWithLogitsLoss()\n",
        "losses = []\n",
        "model.to(device)\n",
        "optimizer = optim.Adam(model.parameters(), lr=3e-6)\n",
        "for epoch in range(NUM_EPOCHS):\n",
        "    model.train()\n",
        "    running_loss = 0.0\n",
        "    iteration = 0\n",
        "    for i, batch in enumerate(trainloader):\n",
        "        iteration += 1\n",
        "        token_ids, masks, labels = tuple(t.to(device) for t in batch)\n",
        "        optimizer.zero_grad()\n",
        "        loss, yhat = model(input_ids=token_ids, attention_mask=masks, labels=labels)\n",
        "        loss.backward()\n",
        "        optimizer.step()\n",
        "        running_loss += float(loss.item())\n",
        "        del token_ids, masks, labels #memory\n",
        "    \n",
        "        if not i%25:\n",
        "            print(f'Epoch: {epoch+1:03d}/{NUM_EPOCHS:03d} | '\n",
        "                  f'Batch {i+1:03d}/{len(trainloader):03d} | '\n",
        "                  f'Average Loss in last {iteration} iteration(s): {(running_loss/iteration):.4f}')\n",
        "            running_loss = 0.0\n",
        "            iteration = 0\n",
        "        torch.cuda.empty_cache() #memory\n",
        "        gc.collect() #memory\n",
        "        losses.append(float(loss.item()))\n",
        "    with torch.set_grad_enabled(False):\n",
        "        print(f'\\nTraining Accuracy: '\n",
        "              f'{compute_accuracy(model, trainloader, device):.2f}%')\n",
        "        \n"
      ],
      "execution_count": 23,
      "outputs": [
        {
          "output_type": "stream",
          "text": [
            "Epoch: 001/005 | Batch 001/459 | Average Loss in last 1 iteration(s): 0.6478\n",
            "Epoch: 001/005 | Batch 026/459 | Average Loss in last 25 iteration(s): 0.6785\n",
            "Epoch: 001/005 | Batch 051/459 | Average Loss in last 25 iteration(s): 0.6554\n",
            "Epoch: 001/005 | Batch 076/459 | Average Loss in last 25 iteration(s): 0.6037\n",
            "Epoch: 001/005 | Batch 101/459 | Average Loss in last 25 iteration(s): 0.5727\n",
            "Epoch: 001/005 | Batch 126/459 | Average Loss in last 25 iteration(s): 0.5143\n",
            "Epoch: 001/005 | Batch 151/459 | Average Loss in last 25 iteration(s): 0.4821\n",
            "Epoch: 001/005 | Batch 176/459 | Average Loss in last 25 iteration(s): 0.4538\n",
            "Epoch: 001/005 | Batch 201/459 | Average Loss in last 25 iteration(s): 0.4244\n",
            "Epoch: 001/005 | Batch 226/459 | Average Loss in last 25 iteration(s): 0.3600\n",
            "Epoch: 001/005 | Batch 251/459 | Average Loss in last 25 iteration(s): 0.3359\n",
            "Epoch: 001/005 | Batch 276/459 | Average Loss in last 25 iteration(s): 0.3406\n",
            "Epoch: 001/005 | Batch 301/459 | Average Loss in last 25 iteration(s): 0.3425\n",
            "Epoch: 001/005 | Batch 326/459 | Average Loss in last 25 iteration(s): 0.3129\n",
            "Epoch: 001/005 | Batch 351/459 | Average Loss in last 25 iteration(s): 0.2839\n",
            "Epoch: 001/005 | Batch 376/459 | Average Loss in last 25 iteration(s): 0.2957\n",
            "Epoch: 001/005 | Batch 401/459 | Average Loss in last 25 iteration(s): 0.3071\n",
            "Epoch: 001/005 | Batch 426/459 | Average Loss in last 25 iteration(s): 0.2446\n",
            "Epoch: 001/005 | Batch 451/459 | Average Loss in last 25 iteration(s): 0.2530\n"
          ],
          "name": "stdout"
        },
        {
          "output_type": "stream",
          "text": [
            "0it [00:00, ?it/s]\n",
            "100%|██████████| 459/459 [01:50<00:00,  4.16it/s]\n"
          ],
          "name": "stderr"
        },
        {
          "output_type": "stream",
          "text": [
            "\n",
            "Training Accuracy: 92.35%\n",
            "Epoch: 002/005 | Batch 001/459 | Average Loss in last 1 iteration(s): 0.4803\n",
            "Epoch: 002/005 | Batch 026/459 | Average Loss in last 25 iteration(s): 0.2693\n",
            "Epoch: 002/005 | Batch 051/459 | Average Loss in last 25 iteration(s): 0.2487\n",
            "Epoch: 002/005 | Batch 076/459 | Average Loss in last 25 iteration(s): 0.2555\n",
            "Epoch: 002/005 | Batch 101/459 | Average Loss in last 25 iteration(s): 0.2030\n",
            "Epoch: 002/005 | Batch 126/459 | Average Loss in last 25 iteration(s): 0.1871\n",
            "Epoch: 002/005 | Batch 151/459 | Average Loss in last 25 iteration(s): 0.1795\n",
            "Epoch: 002/005 | Batch 176/459 | Average Loss in last 25 iteration(s): 0.2314\n",
            "Epoch: 002/005 | Batch 201/459 | Average Loss in last 25 iteration(s): 0.2151\n",
            "Epoch: 002/005 | Batch 226/459 | Average Loss in last 25 iteration(s): 0.1575\n",
            "Epoch: 002/005 | Batch 251/459 | Average Loss in last 25 iteration(s): 0.1687\n",
            "Epoch: 002/005 | Batch 276/459 | Average Loss in last 25 iteration(s): 0.1846\n",
            "Epoch: 002/005 | Batch 301/459 | Average Loss in last 25 iteration(s): 0.1989\n",
            "Epoch: 002/005 | Batch 326/459 | Average Loss in last 25 iteration(s): 0.2055\n",
            "Epoch: 002/005 | Batch 351/459 | Average Loss in last 25 iteration(s): 0.1646\n",
            "Epoch: 002/005 | Batch 376/459 | Average Loss in last 25 iteration(s): 0.1963\n",
            "Epoch: 002/005 | Batch 401/459 | Average Loss in last 25 iteration(s): 0.1814\n",
            "Epoch: 002/005 | Batch 426/459 | Average Loss in last 25 iteration(s): 0.1527\n",
            "Epoch: 002/005 | Batch 451/459 | Average Loss in last 25 iteration(s): 0.1663\n"
          ],
          "name": "stdout"
        },
        {
          "output_type": "stream",
          "text": [
            "0it [00:00, ?it/s]\n",
            "100%|██████████| 459/459 [01:50<00:00,  4.16it/s]\n"
          ],
          "name": "stderr"
        },
        {
          "output_type": "stream",
          "text": [
            "\n",
            "Training Accuracy: 96.29%\n",
            "Epoch: 003/005 | Batch 001/459 | Average Loss in last 1 iteration(s): 0.2610\n",
            "Epoch: 003/005 | Batch 026/459 | Average Loss in last 25 iteration(s): 0.1629\n",
            "Epoch: 003/005 | Batch 051/459 | Average Loss in last 25 iteration(s): 0.1577\n",
            "Epoch: 003/005 | Batch 076/459 | Average Loss in last 25 iteration(s): 0.1583\n",
            "Epoch: 003/005 | Batch 101/459 | Average Loss in last 25 iteration(s): 0.1610\n",
            "Epoch: 003/005 | Batch 126/459 | Average Loss in last 25 iteration(s): 0.1048\n",
            "Epoch: 003/005 | Batch 151/459 | Average Loss in last 25 iteration(s): 0.1053\n",
            "Epoch: 003/005 | Batch 176/459 | Average Loss in last 25 iteration(s): 0.1391\n",
            "Epoch: 003/005 | Batch 201/459 | Average Loss in last 25 iteration(s): 0.1587\n",
            "Epoch: 003/005 | Batch 226/459 | Average Loss in last 25 iteration(s): 0.0931\n",
            "Epoch: 003/005 | Batch 251/459 | Average Loss in last 25 iteration(s): 0.1254\n",
            "Epoch: 003/005 | Batch 276/459 | Average Loss in last 25 iteration(s): 0.1272\n",
            "Epoch: 003/005 | Batch 301/459 | Average Loss in last 25 iteration(s): 0.1137\n",
            "Epoch: 003/005 | Batch 326/459 | Average Loss in last 25 iteration(s): 0.1455\n",
            "Epoch: 003/005 | Batch 351/459 | Average Loss in last 25 iteration(s): 0.0948\n",
            "Epoch: 003/005 | Batch 376/459 | Average Loss in last 25 iteration(s): 0.1077\n",
            "Epoch: 003/005 | Batch 401/459 | Average Loss in last 25 iteration(s): 0.1144\n",
            "Epoch: 003/005 | Batch 426/459 | Average Loss in last 25 iteration(s): 0.1118\n",
            "Epoch: 003/005 | Batch 451/459 | Average Loss in last 25 iteration(s): 0.1192\n"
          ],
          "name": "stdout"
        },
        {
          "output_type": "stream",
          "text": [
            "0it [00:00, ?it/s]\n",
            "100%|██████████| 459/459 [01:50<00:00,  4.16it/s]\n"
          ],
          "name": "stderr"
        },
        {
          "output_type": "stream",
          "text": [
            "\n",
            "Training Accuracy: 98.40%\n",
            "Epoch: 004/005 | Batch 001/459 | Average Loss in last 1 iteration(s): 0.3167\n",
            "Epoch: 004/005 | Batch 026/459 | Average Loss in last 25 iteration(s): 0.1009\n",
            "Epoch: 004/005 | Batch 051/459 | Average Loss in last 25 iteration(s): 0.0914\n",
            "Epoch: 004/005 | Batch 076/459 | Average Loss in last 25 iteration(s): 0.1037\n",
            "Epoch: 004/005 | Batch 101/459 | Average Loss in last 25 iteration(s): 0.0999\n",
            "Epoch: 004/005 | Batch 126/459 | Average Loss in last 25 iteration(s): 0.0686\n",
            "Epoch: 004/005 | Batch 151/459 | Average Loss in last 25 iteration(s): 0.0580\n",
            "Epoch: 004/005 | Batch 176/459 | Average Loss in last 25 iteration(s): 0.0672\n",
            "Epoch: 004/005 | Batch 201/459 | Average Loss in last 25 iteration(s): 0.1113\n",
            "Epoch: 004/005 | Batch 226/459 | Average Loss in last 25 iteration(s): 0.0559\n",
            "Epoch: 004/005 | Batch 251/459 | Average Loss in last 25 iteration(s): 0.0604\n",
            "Epoch: 004/005 | Batch 276/459 | Average Loss in last 25 iteration(s): 0.0941\n",
            "Epoch: 004/005 | Batch 301/459 | Average Loss in last 25 iteration(s): 0.0725\n",
            "Epoch: 004/005 | Batch 326/459 | Average Loss in last 25 iteration(s): 0.1096\n",
            "Epoch: 004/005 | Batch 351/459 | Average Loss in last 25 iteration(s): 0.0763\n",
            "Epoch: 004/005 | Batch 376/459 | Average Loss in last 25 iteration(s): 0.0793\n",
            "Epoch: 004/005 | Batch 401/459 | Average Loss in last 25 iteration(s): 0.0933\n",
            "Epoch: 004/005 | Batch 426/459 | Average Loss in last 25 iteration(s): 0.0926\n",
            "Epoch: 004/005 | Batch 451/459 | Average Loss in last 25 iteration(s): 0.0653\n"
          ],
          "name": "stdout"
        },
        {
          "output_type": "stream",
          "text": [
            "0it [00:00, ?it/s]\n",
            "100%|██████████| 459/459 [01:50<00:00,  4.16it/s]\n"
          ],
          "name": "stderr"
        },
        {
          "output_type": "stream",
          "text": [
            "\n",
            "Training Accuracy: 99.25%\n",
            "Epoch: 005/005 | Batch 001/459 | Average Loss in last 1 iteration(s): 0.2976\n",
            "Epoch: 005/005 | Batch 026/459 | Average Loss in last 25 iteration(s): 0.0621\n",
            "Epoch: 005/005 | Batch 051/459 | Average Loss in last 25 iteration(s): 0.0447\n",
            "Epoch: 005/005 | Batch 076/459 | Average Loss in last 25 iteration(s): 0.0706\n",
            "Epoch: 005/005 | Batch 101/459 | Average Loss in last 25 iteration(s): 0.0626\n",
            "Epoch: 005/005 | Batch 126/459 | Average Loss in last 25 iteration(s): 0.0397\n",
            "Epoch: 005/005 | Batch 151/459 | Average Loss in last 25 iteration(s): 0.0419\n",
            "Epoch: 005/005 | Batch 176/459 | Average Loss in last 25 iteration(s): 0.0639\n",
            "Epoch: 005/005 | Batch 201/459 | Average Loss in last 25 iteration(s): 0.0702\n",
            "Epoch: 005/005 | Batch 226/459 | Average Loss in last 25 iteration(s): 0.0388\n",
            "Epoch: 005/005 | Batch 251/459 | Average Loss in last 25 iteration(s): 0.0323\n",
            "Epoch: 005/005 | Batch 276/459 | Average Loss in last 25 iteration(s): 0.0606\n",
            "Epoch: 005/005 | Batch 301/459 | Average Loss in last 25 iteration(s): 0.0463\n",
            "Epoch: 005/005 | Batch 326/459 | Average Loss in last 25 iteration(s): 0.0834\n",
            "Epoch: 005/005 | Batch 351/459 | Average Loss in last 25 iteration(s): 0.0435\n",
            "Epoch: 005/005 | Batch 376/459 | Average Loss in last 25 iteration(s): 0.0595\n",
            "Epoch: 005/005 | Batch 401/459 | Average Loss in last 25 iteration(s): 0.0613\n",
            "Epoch: 005/005 | Batch 426/459 | Average Loss in last 25 iteration(s): 0.0475\n",
            "Epoch: 005/005 | Batch 451/459 | Average Loss in last 25 iteration(s): 0.0210\n"
          ],
          "name": "stdout"
        },
        {
          "output_type": "stream",
          "text": [
            "0it [00:00, ?it/s]\n",
            "100%|██████████| 459/459 [01:50<00:00,  4.16it/s]\n"
          ],
          "name": "stderr"
        },
        {
          "output_type": "stream",
          "text": [
            "\n",
            "Training Accuracy: 99.67%\n"
          ],
          "name": "stdout"
        }
      ]
    },
    {
      "cell_type": "markdown",
      "metadata": {
        "id": "2ixSdyDXL1ww"
      },
      "source": [
        "#### Testing the final model on the test set"
      ]
    },
    {
      "cell_type": "markdown",
      "metadata": {
        "id": "q0FsLyDySRQf"
      },
      "source": [
        "#### Validation set preprocessing"
      ]
    },
    {
      "cell_type": "code",
      "metadata": {
        "id": "TMT6WTMfS58t",
        "colab": {
          "base_uri": "https://localhost:8080/"
        },
        "outputId": "5a442905-afc6-4633-a391-c79bb4208952"
      },
      "source": [
        "valid.columns = ['id', 'tweet', 'label']\n",
        "del valid['id']\n",
        "tokenized_df_val = list(map(lambda t: ['[CLS]'] + tokenizer.tokenize(t)[:510] + ['[SEP]'], valid['tweet']))\n",
        "indexed_tokens_val = list(map(tokenizer.convert_tokens_to_ids, tokenized_df_val))\n",
        "index_padded_val = np.array([xi+[0]*(totalpadlength-len(xi)) for xi in indexed_tokens_val])\n",
        "target_variable_val = valid['label'].values\n",
        "target_variable_val = (target_variable_val=='real').astype(int)\n",
        "mask_variable_val = [[float(i>0) for i in ii] for ii in index_padded_val]\n",
        " \n",
        "BATCH_SIZE = 16\n",
        "def format_tensors(text_data, mask, labels, batch_size):\n",
        "    X = torch.from_numpy(text_data)\n",
        "    X = X.long()\n",
        "    mask = torch.tensor(mask)\n",
        "    y = torch.from_numpy(labels)\n",
        "    y = y.long()\n",
        "    tensordata = data_utils.TensorDataset(X, mask, y)\n",
        "    loader = data_utils.DataLoader(tensordata, batch_size=batch_size, shuffle=False)\n",
        "    return loader\n",
        " \n",
        "X_train, X_test, y_train, y_test = train_test_split(index_padded_val, target_variable_val, \n",
        "                                                    test_size=0.99, random_state=42)\n",
        " \n",
        "train_masks, test_masks, _, _ = train_test_split(mask_variable_val, index_padded_val, \n",
        "                                                       test_size=0.99, random_state=42)\n",
        "print(y_train)\n",
        "trainloader = format_tensors(X_train, train_masks, y_train,BATCH_SIZE)\n",
        "testloader = format_tensors(X_test, test_masks, y_test, BATCH_SIZE)\n",
        " \n",
        "# print (testloader)\n",
        "#print(valid)\n",
        "# print (X_test.shape)"
      ],
      "execution_count": 24,
      "outputs": [
        {
          "output_type": "stream",
          "text": [
            "[0 1 1 1 1 0 1 1 0 1 1 0 0 0 0 0 0 0 0 1 1]\n"
          ],
          "name": "stdout"
        }
      ]
    },
    {
      "cell_type": "code",
      "metadata": {
        "id": "BAu6Y4pSL1Vf",
        "colab": {
          "base_uri": "https://localhost:8080/"
        },
        "outputId": "2bee6c9a-ada8-4c8a-d59b-4373464340b4"
      },
      "source": [
        "with torch.set_grad_enabled(False):\n",
        "  print(f'\\n\\nTest Accuracy:'\n",
        "  f'{compute_accuracy(model, testloader, device):.2f}%')"
      ],
      "execution_count": 25,
      "outputs": [
        {
          "output_type": "stream",
          "text": [
            "0it [00:00, ?it/s]\n",
            "100%|██████████| 133/133 [00:37<00:00,  3.52it/s]\n"
          ],
          "name": "stderr"
        },
        {
          "output_type": "stream",
          "text": [
            "\n",
            "\n",
            "Test Accuracy:95.52%\n"
          ],
          "name": "stdout"
        }
      ]
    },
    {
      "cell_type": "markdown",
      "metadata": {
        "id": "gxF5RZzgNmJF"
      },
      "source": [
        "#### We then do some error analysis by gathering the articles that were incorrectly predicted and analyzing the text of the articles."
      ]
    },
    {
      "cell_type": "code",
      "metadata": {
        "id": "u9jq78QlMpbL",
        "colab": {
          "base_uri": "https://localhost:8080/"
        },
        "outputId": "00418070-63f4-4654-ba40-e5a4ffa89ae2"
      },
      "source": [
        "test_predictions = torch.zeros((len(y_test),1))\n",
        "test_predictions_percent = torch.zeros((len(y_test),1))\n",
        "with torch.no_grad():\n",
        "  for i, batch in enumerate(tqdm(testloader)):\n",
        "    token_ids, masks, labels = tuple(t.to(device) for t in batch)\n",
        "    _, yhat = model(input_ids=token_ids, attention_mask=masks, labels=labels)\n",
        "    prediction = (torch.sigmoid(yhat[:,1]) > 0.5).long().view(-1,1)\n",
        "    test_predictions[i*BATCH_SIZE:(i+1)*BATCH_SIZE] = prediction\n",
        "    test_predictions_percent[i*BATCH_SIZE:(i+1)*BATCH_SIZE] = torch.sigmoid(yhat[:,1]).view(-1,1)"
      ],
      "execution_count": 26,
      "outputs": [
        {
          "output_type": "stream",
          "text": [
            "100%|██████████| 133/133 [00:38<00:00,  3.48it/s]\n"
          ],
          "name": "stderr"
        }
      ]
    },
    {
      "cell_type": "code",
      "metadata": {
        "id": "qG-KPbFqMpih"
      },
      "source": [
        "X_train_words, X_test_words, y_train_words, y_test_words = train_test_split(valid['tweet'], target_variable_val, \n",
        "                                                    test_size=0.99, random_state=42)"
      ],
      "execution_count": 27,
      "outputs": []
    },
    {
      "cell_type": "code",
      "metadata": {
        "id": "Phlxie3NMpnv"
      },
      "source": [
        "final_results = X_test_words.to_frame().reset_index(drop=True)\n",
        "final_results['predicted'] = np.array(test_predictions.reshape(-1), dtype=int).tolist()\n",
        "final_results['percent'] = np.array(test_predictions_percent.reshape(-1), dtype=float).tolist()\n",
        "final_results['actual'] = y_test_words\n",
        "wrong_results = final_results.loc[final_results['predicted']!=final_results['actual']].copy()\n"
      ],
      "execution_count": 28,
      "outputs": []
    },
    {
      "cell_type": "code",
      "metadata": {
        "id": "28h0Xz3VMpq4",
        "colab": {
          "base_uri": "https://localhost:8080/"
        },
        "outputId": "46de9799-40d7-4f91-ab7c-145ed4a0309d"
      },
      "source": [
        "print(\"No. of test examples : \", X_test.shape[0])\n",
        "print('Number of incorrectly classified articles:', len(wrong_results))"
      ],
      "execution_count": 29,
      "outputs": [
        {
          "output_type": "stream",
          "text": [
            "No. of test examples :  2119\n",
            "Number of incorrectly classified articles: 95\n"
          ],
          "name": "stdout"
        }
      ]
    },
    {
      "cell_type": "markdown",
      "metadata": {
        "id": "yejVOpxzPSLc"
      },
      "source": [
        "#### This displays the incorrectly predicted articles along with the percent confidence the algorithm had in each instance. The threshold for classification is 50%. Instances closer to 100% are more confident it's real news and instances closer to 0% are more confident it's fake news."
      ]
    },
    {
      "cell_type": "code",
      "metadata": {
        "id": "D7Wzg5EINQZv",
        "colab": {
          "base_uri": "https://localhost:8080/",
          "height": 1000
        },
        "outputId": "4dfd0bfd-ac09-450e-9c59-b9d7e131b6f2"
      },
      "source": [
        "wrong_results.loc[:,'text_short'] = wrong_results.loc[:,'tweet'].apply(lambda x: x[:500])\n",
        "wrong_results.loc[:,('text_short', 'percent','predicted','actual')].style.set_properties(subset=['text_short'], **{'width': '1000px', 'white-space':'pre-wrap'})"
      ],
      "execution_count": 30,
      "outputs": [
        {
          "output_type": "execute_result",
          "data": {
            "text/html": [
              "<style  type=\"text/css\" >\n",
              "#T_79d89fca_3887_11eb_b18a_0242ac1c0002row0_col0,#T_79d89fca_3887_11eb_b18a_0242ac1c0002row1_col0,#T_79d89fca_3887_11eb_b18a_0242ac1c0002row2_col0,#T_79d89fca_3887_11eb_b18a_0242ac1c0002row3_col0,#T_79d89fca_3887_11eb_b18a_0242ac1c0002row4_col0,#T_79d89fca_3887_11eb_b18a_0242ac1c0002row5_col0,#T_79d89fca_3887_11eb_b18a_0242ac1c0002row6_col0,#T_79d89fca_3887_11eb_b18a_0242ac1c0002row7_col0,#T_79d89fca_3887_11eb_b18a_0242ac1c0002row8_col0,#T_79d89fca_3887_11eb_b18a_0242ac1c0002row9_col0,#T_79d89fca_3887_11eb_b18a_0242ac1c0002row10_col0,#T_79d89fca_3887_11eb_b18a_0242ac1c0002row11_col0,#T_79d89fca_3887_11eb_b18a_0242ac1c0002row12_col0,#T_79d89fca_3887_11eb_b18a_0242ac1c0002row13_col0,#T_79d89fca_3887_11eb_b18a_0242ac1c0002row14_col0,#T_79d89fca_3887_11eb_b18a_0242ac1c0002row15_col0,#T_79d89fca_3887_11eb_b18a_0242ac1c0002row16_col0,#T_79d89fca_3887_11eb_b18a_0242ac1c0002row17_col0,#T_79d89fca_3887_11eb_b18a_0242ac1c0002row18_col0,#T_79d89fca_3887_11eb_b18a_0242ac1c0002row19_col0,#T_79d89fca_3887_11eb_b18a_0242ac1c0002row20_col0,#T_79d89fca_3887_11eb_b18a_0242ac1c0002row21_col0,#T_79d89fca_3887_11eb_b18a_0242ac1c0002row22_col0,#T_79d89fca_3887_11eb_b18a_0242ac1c0002row23_col0,#T_79d89fca_3887_11eb_b18a_0242ac1c0002row24_col0,#T_79d89fca_3887_11eb_b18a_0242ac1c0002row25_col0,#T_79d89fca_3887_11eb_b18a_0242ac1c0002row26_col0,#T_79d89fca_3887_11eb_b18a_0242ac1c0002row27_col0,#T_79d89fca_3887_11eb_b18a_0242ac1c0002row28_col0,#T_79d89fca_3887_11eb_b18a_0242ac1c0002row29_col0,#T_79d89fca_3887_11eb_b18a_0242ac1c0002row30_col0,#T_79d89fca_3887_11eb_b18a_0242ac1c0002row31_col0,#T_79d89fca_3887_11eb_b18a_0242ac1c0002row32_col0,#T_79d89fca_3887_11eb_b18a_0242ac1c0002row33_col0,#T_79d89fca_3887_11eb_b18a_0242ac1c0002row34_col0,#T_79d89fca_3887_11eb_b18a_0242ac1c0002row35_col0,#T_79d89fca_3887_11eb_b18a_0242ac1c0002row36_col0,#T_79d89fca_3887_11eb_b18a_0242ac1c0002row37_col0,#T_79d89fca_3887_11eb_b18a_0242ac1c0002row38_col0,#T_79d89fca_3887_11eb_b18a_0242ac1c0002row39_col0,#T_79d89fca_3887_11eb_b18a_0242ac1c0002row40_col0,#T_79d89fca_3887_11eb_b18a_0242ac1c0002row41_col0,#T_79d89fca_3887_11eb_b18a_0242ac1c0002row42_col0,#T_79d89fca_3887_11eb_b18a_0242ac1c0002row43_col0,#T_79d89fca_3887_11eb_b18a_0242ac1c0002row44_col0,#T_79d89fca_3887_11eb_b18a_0242ac1c0002row45_col0,#T_79d89fca_3887_11eb_b18a_0242ac1c0002row46_col0,#T_79d89fca_3887_11eb_b18a_0242ac1c0002row47_col0,#T_79d89fca_3887_11eb_b18a_0242ac1c0002row48_col0,#T_79d89fca_3887_11eb_b18a_0242ac1c0002row49_col0,#T_79d89fca_3887_11eb_b18a_0242ac1c0002row50_col0,#T_79d89fca_3887_11eb_b18a_0242ac1c0002row51_col0,#T_79d89fca_3887_11eb_b18a_0242ac1c0002row52_col0,#T_79d89fca_3887_11eb_b18a_0242ac1c0002row53_col0,#T_79d89fca_3887_11eb_b18a_0242ac1c0002row54_col0,#T_79d89fca_3887_11eb_b18a_0242ac1c0002row55_col0,#T_79d89fca_3887_11eb_b18a_0242ac1c0002row56_col0,#T_79d89fca_3887_11eb_b18a_0242ac1c0002row57_col0,#T_79d89fca_3887_11eb_b18a_0242ac1c0002row58_col0,#T_79d89fca_3887_11eb_b18a_0242ac1c0002row59_col0,#T_79d89fca_3887_11eb_b18a_0242ac1c0002row60_col0,#T_79d89fca_3887_11eb_b18a_0242ac1c0002row61_col0,#T_79d89fca_3887_11eb_b18a_0242ac1c0002row62_col0,#T_79d89fca_3887_11eb_b18a_0242ac1c0002row63_col0,#T_79d89fca_3887_11eb_b18a_0242ac1c0002row64_col0,#T_79d89fca_3887_11eb_b18a_0242ac1c0002row65_col0,#T_79d89fca_3887_11eb_b18a_0242ac1c0002row66_col0,#T_79d89fca_3887_11eb_b18a_0242ac1c0002row67_col0,#T_79d89fca_3887_11eb_b18a_0242ac1c0002row68_col0,#T_79d89fca_3887_11eb_b18a_0242ac1c0002row69_col0,#T_79d89fca_3887_11eb_b18a_0242ac1c0002row70_col0,#T_79d89fca_3887_11eb_b18a_0242ac1c0002row71_col0,#T_79d89fca_3887_11eb_b18a_0242ac1c0002row72_col0,#T_79d89fca_3887_11eb_b18a_0242ac1c0002row73_col0,#T_79d89fca_3887_11eb_b18a_0242ac1c0002row74_col0,#T_79d89fca_3887_11eb_b18a_0242ac1c0002row75_col0,#T_79d89fca_3887_11eb_b18a_0242ac1c0002row76_col0,#T_79d89fca_3887_11eb_b18a_0242ac1c0002row77_col0,#T_79d89fca_3887_11eb_b18a_0242ac1c0002row78_col0,#T_79d89fca_3887_11eb_b18a_0242ac1c0002row79_col0,#T_79d89fca_3887_11eb_b18a_0242ac1c0002row80_col0,#T_79d89fca_3887_11eb_b18a_0242ac1c0002row81_col0,#T_79d89fca_3887_11eb_b18a_0242ac1c0002row82_col0,#T_79d89fca_3887_11eb_b18a_0242ac1c0002row83_col0,#T_79d89fca_3887_11eb_b18a_0242ac1c0002row84_col0,#T_79d89fca_3887_11eb_b18a_0242ac1c0002row85_col0,#T_79d89fca_3887_11eb_b18a_0242ac1c0002row86_col0,#T_79d89fca_3887_11eb_b18a_0242ac1c0002row87_col0,#T_79d89fca_3887_11eb_b18a_0242ac1c0002row88_col0,#T_79d89fca_3887_11eb_b18a_0242ac1c0002row89_col0,#T_79d89fca_3887_11eb_b18a_0242ac1c0002row90_col0,#T_79d89fca_3887_11eb_b18a_0242ac1c0002row91_col0,#T_79d89fca_3887_11eb_b18a_0242ac1c0002row92_col0,#T_79d89fca_3887_11eb_b18a_0242ac1c0002row93_col0,#T_79d89fca_3887_11eb_b18a_0242ac1c0002row94_col0{\n",
              "            width:  1000px;\n",
              "            white-space:  pre-wrap;\n",
              "        }</style><table id=\"T_79d89fca_3887_11eb_b18a_0242ac1c0002\" ><thead>    <tr>        <th class=\"blank level0\" ></th>        <th class=\"col_heading level0 col0\" >text_short</th>        <th class=\"col_heading level0 col1\" >percent</th>        <th class=\"col_heading level0 col2\" >predicted</th>        <th class=\"col_heading level0 col3\" >actual</th>    </tr></thead><tbody>\n",
              "                <tr>\n",
              "                        <th id=\"T_79d89fca_3887_11eb_b18a_0242ac1c0002level0_row0\" class=\"row_heading level0 row0\" >24</th>\n",
              "                        <td id=\"T_79d89fca_3887_11eb_b18a_0242ac1c0002row0_col0\" class=\"data row0 col0\" >Coronavirus testing in the UK has been cobbled together by a government that doesnt really understand the science behind it all says profkarolsikora </td>\n",
              "                        <td id=\"T_79d89fca_3887_11eb_b18a_0242ac1c0002row0_col1\" class=\"data row0 col1\" >0.343400</td>\n",
              "                        <td id=\"T_79d89fca_3887_11eb_b18a_0242ac1c0002row0_col2\" class=\"data row0 col2\" >0</td>\n",
              "                        <td id=\"T_79d89fca_3887_11eb_b18a_0242ac1c0002row0_col3\" class=\"data row0 col3\" >1</td>\n",
              "            </tr>\n",
              "            <tr>\n",
              "                        <th id=\"T_79d89fca_3887_11eb_b18a_0242ac1c0002level0_row1\" class=\"row_heading level0 row1\" >27</th>\n",
              "                        <td id=\"T_79d89fca_3887_11eb_b18a_0242ac1c0002row1_col0\" class=\"data row1 col0\" >33  at the start was reasonably necessary But its much more difficult now the huge numbers of coronavirus cases have reduced significantly and theres little community transmission  to argue you still need those borders shut Quote source </td>\n",
              "                        <td id=\"T_79d89fca_3887_11eb_b18a_0242ac1c0002row1_col1\" class=\"data row1 col1\" >0.958168</td>\n",
              "                        <td id=\"T_79d89fca_3887_11eb_b18a_0242ac1c0002row1_col2\" class=\"data row1 col2\" >1</td>\n",
              "                        <td id=\"T_79d89fca_3887_11eb_b18a_0242ac1c0002row1_col3\" class=\"data row1 col3\" >0</td>\n",
              "            </tr>\n",
              "            <tr>\n",
              "                        <th id=\"T_79d89fca_3887_11eb_b18a_0242ac1c0002level0_row2\" class=\"row_heading level0 row2\" >40</th>\n",
              "                        <td id=\"T_79d89fca_3887_11eb_b18a_0242ac1c0002row2_col0\" class=\"data row2 col0\" >Noel Gallagher says he refuses to wear a face mask while shopping as he goes against laws brought in during the pandemic to curb the spread of coronavirus </td>\n",
              "                        <td id=\"T_79d89fca_3887_11eb_b18a_0242ac1c0002row2_col1\" class=\"data row2 col1\" >0.076028</td>\n",
              "                        <td id=\"T_79d89fca_3887_11eb_b18a_0242ac1c0002row2_col2\" class=\"data row2 col2\" >0</td>\n",
              "                        <td id=\"T_79d89fca_3887_11eb_b18a_0242ac1c0002row2_col3\" class=\"data row2 col3\" >1</td>\n",
              "            </tr>\n",
              "            <tr>\n",
              "                        <th id=\"T_79d89fca_3887_11eb_b18a_0242ac1c0002level0_row3\" class=\"row_heading level0 row3\" >142</th>\n",
              "                        <td id=\"T_79d89fca_3887_11eb_b18a_0242ac1c0002row3_col0\" class=\"data row3 col0\" >WHO reports record daily increase in global coronavirus cases up over 292000 </td>\n",
              "                        <td id=\"T_79d89fca_3887_11eb_b18a_0242ac1c0002row3_col1\" class=\"data row3 col1\" >0.784781</td>\n",
              "                        <td id=\"T_79d89fca_3887_11eb_b18a_0242ac1c0002row3_col2\" class=\"data row3 col2\" >1</td>\n",
              "                        <td id=\"T_79d89fca_3887_11eb_b18a_0242ac1c0002row3_col3\" class=\"data row3 col3\" >0</td>\n",
              "            </tr>\n",
              "            <tr>\n",
              "                        <th id=\"T_79d89fca_3887_11eb_b18a_0242ac1c0002level0_row4\" class=\"row_heading level0 row4\" >147</th>\n",
              "                        <td id=\"T_79d89fca_3887_11eb_b18a_0242ac1c0002row4_col0\" class=\"data row4 col0\" >BREAKING Families of NHS workers who die of covid19 to be offered 60k compensation or a couple of thousand sets of PPE that well have by then</td>\n",
              "                        <td id=\"T_79d89fca_3887_11eb_b18a_0242ac1c0002row4_col1\" class=\"data row4 col1\" >0.914779</td>\n",
              "                        <td id=\"T_79d89fca_3887_11eb_b18a_0242ac1c0002row4_col2\" class=\"data row4 col2\" >1</td>\n",
              "                        <td id=\"T_79d89fca_3887_11eb_b18a_0242ac1c0002row4_col3\" class=\"data row4 col3\" >0</td>\n",
              "            </tr>\n",
              "            <tr>\n",
              "                        <th id=\"T_79d89fca_3887_11eb_b18a_0242ac1c0002level0_row5\" class=\"row_heading level0 row5\" >166</th>\n",
              "                        <td id=\"T_79d89fca_3887_11eb_b18a_0242ac1c0002row5_col0\" class=\"data row5 col0\" >Whether countries with high rates of childhood vaccines were hit hardest by coronavirus</td>\n",
              "                        <td id=\"T_79d89fca_3887_11eb_b18a_0242ac1c0002row5_col1\" class=\"data row5 col1\" >0.628757</td>\n",
              "                        <td id=\"T_79d89fca_3887_11eb_b18a_0242ac1c0002row5_col2\" class=\"data row5 col2\" >1</td>\n",
              "                        <td id=\"T_79d89fca_3887_11eb_b18a_0242ac1c0002row5_col3\" class=\"data row5 col3\" >0</td>\n",
              "            </tr>\n",
              "            <tr>\n",
              "                        <th id=\"T_79d89fca_3887_11eb_b18a_0242ac1c0002level0_row6\" class=\"row_heading level0 row6\" >183</th>\n",
              "                        <td id=\"T_79d89fca_3887_11eb_b18a_0242ac1c0002row6_col0\" class=\"data row6 col0\" >ThePollDude ktwopines I always adhere to science The FDA stated that it was no longer reasonable to believe that hydroxychloroquine and chloroquine were effective in treating COVID19 and revoked their Emergency Use Authorization for these medications 1</td>\n",
              "                        <td id=\"T_79d89fca_3887_11eb_b18a_0242ac1c0002row6_col1\" class=\"data row6 col1\" >0.821028</td>\n",
              "                        <td id=\"T_79d89fca_3887_11eb_b18a_0242ac1c0002row6_col2\" class=\"data row6 col2\" >1</td>\n",
              "                        <td id=\"T_79d89fca_3887_11eb_b18a_0242ac1c0002row6_col3\" class=\"data row6 col3\" >0</td>\n",
              "            </tr>\n",
              "            <tr>\n",
              "                        <th id=\"T_79d89fca_3887_11eb_b18a_0242ac1c0002level0_row7\" class=\"row_heading level0 row7\" >197</th>\n",
              "                        <td id=\"T_79d89fca_3887_11eb_b18a_0242ac1c0002row7_col0\" class=\"data row7 col0\" >ZuckOff TakeItFromADoctor and a video with false claims on mask wearing and hydroxychloroquine  </td>\n",
              "                        <td id=\"T_79d89fca_3887_11eb_b18a_0242ac1c0002row7_col1\" class=\"data row7 col1\" >0.046024</td>\n",
              "                        <td id=\"T_79d89fca_3887_11eb_b18a_0242ac1c0002row7_col2\" class=\"data row7 col2\" >0</td>\n",
              "                        <td id=\"T_79d89fca_3887_11eb_b18a_0242ac1c0002row7_col3\" class=\"data row7 col3\" >1</td>\n",
              "            </tr>\n",
              "            <tr>\n",
              "                        <th id=\"T_79d89fca_3887_11eb_b18a_0242ac1c0002level0_row8\" class=\"row_heading level0 row8\" >209</th>\n",
              "                        <td id=\"T_79d89fca_3887_11eb_b18a_0242ac1c0002row8_col0\" class=\"data row8 col0\" >If we stopped testing right now wed have very few cases if any</td>\n",
              "                        <td id=\"T_79d89fca_3887_11eb_b18a_0242ac1c0002row8_col1\" class=\"data row8 col1\" >0.577800</td>\n",
              "                        <td id=\"T_79d89fca_3887_11eb_b18a_0242ac1c0002row8_col2\" class=\"data row8 col2\" >1</td>\n",
              "                        <td id=\"T_79d89fca_3887_11eb_b18a_0242ac1c0002row8_col3\" class=\"data row8 col3\" >0</td>\n",
              "            </tr>\n",
              "            <tr>\n",
              "                        <th id=\"T_79d89fca_3887_11eb_b18a_0242ac1c0002level0_row9\" class=\"row_heading level0 row9\" >231</th>\n",
              "                        <td id=\"T_79d89fca_3887_11eb_b18a_0242ac1c0002row9_col0\" class=\"data row9 col0\" >Q How do I clean fruits and vegetables during COVID19 A  Do NOT wash produce with soap disinfectant or any other chemical  Rinse fruits and vegetables under cold running tap water  Scrub uncut firm produce with a clean brush  </td>\n",
              "                        <td id=\"T_79d89fca_3887_11eb_b18a_0242ac1c0002row9_col1\" class=\"data row9 col1\" >0.296824</td>\n",
              "                        <td id=\"T_79d89fca_3887_11eb_b18a_0242ac1c0002row9_col2\" class=\"data row9 col2\" >0</td>\n",
              "                        <td id=\"T_79d89fca_3887_11eb_b18a_0242ac1c0002row9_col3\" class=\"data row9 col3\" >1</td>\n",
              "            </tr>\n",
              "            <tr>\n",
              "                        <th id=\"T_79d89fca_3887_11eb_b18a_0242ac1c0002level0_row10\" class=\"row_heading level0 row10\" >252</th>\n",
              "                        <td id=\"T_79d89fca_3887_11eb_b18a_0242ac1c0002row10_col0\" class=\"data row10 col0\" >If a patient is diagnosed with COVID19 and the doctor refuses to prescribe hydroxichloroquine the patient is entitled to a lawsuit</td>\n",
              "                        <td id=\"T_79d89fca_3887_11eb_b18a_0242ac1c0002row10_col1\" class=\"data row10 col1\" >0.594225</td>\n",
              "                        <td id=\"T_79d89fca_3887_11eb_b18a_0242ac1c0002row10_col2\" class=\"data row10 col2\" >1</td>\n",
              "                        <td id=\"T_79d89fca_3887_11eb_b18a_0242ac1c0002row10_col3\" class=\"data row10 col3\" >0</td>\n",
              "            </tr>\n",
              "            <tr>\n",
              "                        <th id=\"T_79d89fca_3887_11eb_b18a_0242ac1c0002level0_row11\" class=\"row_heading level0 row11\" >264</th>\n",
              "                        <td id=\"T_79d89fca_3887_11eb_b18a_0242ac1c0002row11_col0\" class=\"data row11 col0\" >What autopsies are revealing about the devastating effects of coronavirus on the body </td>\n",
              "                        <td id=\"T_79d89fca_3887_11eb_b18a_0242ac1c0002row11_col1\" class=\"data row11 col1\" >0.388277</td>\n",
              "                        <td id=\"T_79d89fca_3887_11eb_b18a_0242ac1c0002row11_col2\" class=\"data row11 col2\" >0</td>\n",
              "                        <td id=\"T_79d89fca_3887_11eb_b18a_0242ac1c0002row11_col3\" class=\"data row11 col3\" >1</td>\n",
              "            </tr>\n",
              "            <tr>\n",
              "                        <th id=\"T_79d89fca_3887_11eb_b18a_0242ac1c0002level0_row12\" class=\"row_heading level0 row12\" >268</th>\n",
              "                        <td id=\"T_79d89fca_3887_11eb_b18a_0242ac1c0002row12_col0\" class=\"data row12 col0\" >Have you wanted to make a difference during the pandemic but not sure how to safely go about itCollect or donate itemscertificates for our Apocalypse Meow AuctionThis is an important part of our yearly fundraising to keep the Abbys Fund Health Care Grants available </td>\n",
              "                        <td id=\"T_79d89fca_3887_11eb_b18a_0242ac1c0002row12_col1\" class=\"data row12 col1\" >0.786827</td>\n",
              "                        <td id=\"T_79d89fca_3887_11eb_b18a_0242ac1c0002row12_col2\" class=\"data row12 col2\" >1</td>\n",
              "                        <td id=\"T_79d89fca_3887_11eb_b18a_0242ac1c0002row12_col3\" class=\"data row12 col3\" >0</td>\n",
              "            </tr>\n",
              "            <tr>\n",
              "                        <th id=\"T_79d89fca_3887_11eb_b18a_0242ac1c0002level0_row13\" class=\"row_heading level0 row13\" >275</th>\n",
              "                        <td id=\"T_79d89fca_3887_11eb_b18a_0242ac1c0002row13_col0\" class=\"data row13 col0\" >04051952n This provision of CGHS card being valid for availing facilities from any CGHS Wellness Centre in India is not just for COVID19 but for other diseases as well as mentioned in the CGHS document in the earlier tweet</td>\n",
              "                        <td id=\"T_79d89fca_3887_11eb_b18a_0242ac1c0002row13_col1\" class=\"data row13 col1\" >0.074633</td>\n",
              "                        <td id=\"T_79d89fca_3887_11eb_b18a_0242ac1c0002row13_col2\" class=\"data row13 col2\" >0</td>\n",
              "                        <td id=\"T_79d89fca_3887_11eb_b18a_0242ac1c0002row13_col3\" class=\"data row13 col3\" >1</td>\n",
              "            </tr>\n",
              "            <tr>\n",
              "                        <th id=\"T_79d89fca_3887_11eb_b18a_0242ac1c0002level0_row14\" class=\"row_heading level0 row14\" >287</th>\n",
              "                        <td id=\"T_79d89fca_3887_11eb_b18a_0242ac1c0002row14_col0\" class=\"data row14 col0\" >Since the reopening of Georgia weve seen our COVID rate skyrocket by 40</td>\n",
              "                        <td id=\"T_79d89fca_3887_11eb_b18a_0242ac1c0002row14_col1\" class=\"data row14 col1\" >0.956369</td>\n",
              "                        <td id=\"T_79d89fca_3887_11eb_b18a_0242ac1c0002row14_col2\" class=\"data row14 col2\" >1</td>\n",
              "                        <td id=\"T_79d89fca_3887_11eb_b18a_0242ac1c0002row14_col3\" class=\"data row14 col3\" >0</td>\n",
              "            </tr>\n",
              "            <tr>\n",
              "                        <th id=\"T_79d89fca_3887_11eb_b18a_0242ac1c0002level0_row15\" class=\"row_heading level0 row15\" >291</th>\n",
              "                        <td id=\"T_79d89fca_3887_11eb_b18a_0242ac1c0002row15_col0\" class=\"data row15 col0\" >Will Californias governor approve the 150 million per year needed to battle COVID19 </td>\n",
              "                        <td id=\"T_79d89fca_3887_11eb_b18a_0242ac1c0002row15_col1\" class=\"data row15 col1\" >0.408540</td>\n",
              "                        <td id=\"T_79d89fca_3887_11eb_b18a_0242ac1c0002row15_col2\" class=\"data row15 col2\" >0</td>\n",
              "                        <td id=\"T_79d89fca_3887_11eb_b18a_0242ac1c0002row15_col3\" class=\"data row15 col3\" >1</td>\n",
              "            </tr>\n",
              "            <tr>\n",
              "                        <th id=\"T_79d89fca_3887_11eb_b18a_0242ac1c0002level0_row16\" class=\"row_heading level0 row16\" >318</th>\n",
              "                        <td id=\"T_79d89fca_3887_11eb_b18a_0242ac1c0002row16_col0\" class=\"data row16 col0\" >Some states are handing out fines for COVID rule breakers </td>\n",
              "                        <td id=\"T_79d89fca_3887_11eb_b18a_0242ac1c0002row16_col1\" class=\"data row16 col1\" >0.311280</td>\n",
              "                        <td id=\"T_79d89fca_3887_11eb_b18a_0242ac1c0002row16_col2\" class=\"data row16 col2\" >0</td>\n",
              "                        <td id=\"T_79d89fca_3887_11eb_b18a_0242ac1c0002row16_col3\" class=\"data row16 col3\" >1</td>\n",
              "            </tr>\n",
              "            <tr>\n",
              "                        <th id=\"T_79d89fca_3887_11eb_b18a_0242ac1c0002level0_row17\" class=\"row_heading level0 row17\" >320</th>\n",
              "                        <td id=\"T_79d89fca_3887_11eb_b18a_0242ac1c0002row17_col0\" class=\"data row17 col0\" >We could see 100K coronavirus cases a day Fauci says at Senate hearing </td>\n",
              "                        <td id=\"T_79d89fca_3887_11eb_b18a_0242ac1c0002row17_col1\" class=\"data row17 col1\" >0.090413</td>\n",
              "                        <td id=\"T_79d89fca_3887_11eb_b18a_0242ac1c0002row17_col2\" class=\"data row17 col2\" >0</td>\n",
              "                        <td id=\"T_79d89fca_3887_11eb_b18a_0242ac1c0002row17_col3\" class=\"data row17 col3\" >1</td>\n",
              "            </tr>\n",
              "            <tr>\n",
              "                        <th id=\"T_79d89fca_3887_11eb_b18a_0242ac1c0002level0_row18\" class=\"row_heading level0 row18\" >338</th>\n",
              "                        <td id=\"T_79d89fca_3887_11eb_b18a_0242ac1c0002row18_col0\" class=\"data row18 col0\" >Navigating immunosuppression during the pandemic continues to challenge patients and providers Thanks to the Medical Dermatology Society and Society of Dermatology Hospitalists here is an article to help navigate these difficult decisions  </td>\n",
              "                        <td id=\"T_79d89fca_3887_11eb_b18a_0242ac1c0002row18_col1\" class=\"data row18 col1\" >0.934132</td>\n",
              "                        <td id=\"T_79d89fca_3887_11eb_b18a_0242ac1c0002row18_col2\" class=\"data row18 col2\" >1</td>\n",
              "                        <td id=\"T_79d89fca_3887_11eb_b18a_0242ac1c0002row18_col3\" class=\"data row18 col3\" >0</td>\n",
              "            </tr>\n",
              "            <tr>\n",
              "                        <th id=\"T_79d89fca_3887_11eb_b18a_0242ac1c0002level0_row19\" class=\"row_heading level0 row19\" >344</th>\n",
              "                        <td id=\"T_79d89fca_3887_11eb_b18a_0242ac1c0002row19_col0\" class=\"data row19 col0\" >CAALKESHKASLIWA ICMRDELHI COVID19 treatment in all Govt Dedicated COVID hospitals is free of cost For 50 crore beneficiaries of Ayushman Bharat Pradhan Mantri Jan Arogya Yojana can avail free testing and treatment for COVID19 in empanelled private labshospitals</td>\n",
              "                        <td id=\"T_79d89fca_3887_11eb_b18a_0242ac1c0002row19_col1\" class=\"data row19 col1\" >0.237832</td>\n",
              "                        <td id=\"T_79d89fca_3887_11eb_b18a_0242ac1c0002row19_col2\" class=\"data row19 col2\" >0</td>\n",
              "                        <td id=\"T_79d89fca_3887_11eb_b18a_0242ac1c0002row19_col3\" class=\"data row19 col3\" >1</td>\n",
              "            </tr>\n",
              "            <tr>\n",
              "                        <th id=\"T_79d89fca_3887_11eb_b18a_0242ac1c0002level0_row20\" class=\"row_heading level0 row20\" >368</th>\n",
              "                        <td id=\"T_79d89fca_3887_11eb_b18a_0242ac1c0002row20_col0\" class=\"data row20 col0\" >Nearly half of Missouri counties have not reported positive COVID19 cases</td>\n",
              "                        <td id=\"T_79d89fca_3887_11eb_b18a_0242ac1c0002row20_col1\" class=\"data row20 col1\" >0.690029</td>\n",
              "                        <td id=\"T_79d89fca_3887_11eb_b18a_0242ac1c0002row20_col2\" class=\"data row20 col2\" >1</td>\n",
              "                        <td id=\"T_79d89fca_3887_11eb_b18a_0242ac1c0002row20_col3\" class=\"data row20 col3\" >0</td>\n",
              "            </tr>\n",
              "            <tr>\n",
              "                        <th id=\"T_79d89fca_3887_11eb_b18a_0242ac1c0002level0_row21\" class=\"row_heading level0 row21\" >375</th>\n",
              "                        <td id=\"T_79d89fca_3887_11eb_b18a_0242ac1c0002row21_col0\" class=\"data row21 col0\" >Harvard and MIT scientists selfadministered a DIY covid vaccine without FDA authorization  </td>\n",
              "                        <td id=\"T_79d89fca_3887_11eb_b18a_0242ac1c0002row21_col1\" class=\"data row21 col1\" >0.058967</td>\n",
              "                        <td id=\"T_79d89fca_3887_11eb_b18a_0242ac1c0002row21_col2\" class=\"data row21 col2\" >0</td>\n",
              "                        <td id=\"T_79d89fca_3887_11eb_b18a_0242ac1c0002row21_col3\" class=\"data row21 col3\" >1</td>\n",
              "            </tr>\n",
              "            <tr>\n",
              "                        <th id=\"T_79d89fca_3887_11eb_b18a_0242ac1c0002level0_row22\" class=\"row_heading level0 row22\" >376</th>\n",
              "                        <td id=\"T_79d89fca_3887_11eb_b18a_0242ac1c0002row22_col0\" class=\"data row22 col0\" >if we test aggressively test through RT PCR TRUENATANTIGEN tests Definitely KA cross 15lac COVID 19 ve casesStill Our MoHFWINDIA updating Invisible datas At least 10m We should struggle With COVID 19 csogok mlasudhakar drashwathcn </td>\n",
              "                        <td id=\"T_79d89fca_3887_11eb_b18a_0242ac1c0002row22_col1\" class=\"data row22 col1\" >0.949538</td>\n",
              "                        <td id=\"T_79d89fca_3887_11eb_b18a_0242ac1c0002row22_col2\" class=\"data row22 col2\" >1</td>\n",
              "                        <td id=\"T_79d89fca_3887_11eb_b18a_0242ac1c0002row22_col3\" class=\"data row22 col3\" >0</td>\n",
              "            </tr>\n",
              "            <tr>\n",
              "                        <th id=\"T_79d89fca_3887_11eb_b18a_0242ac1c0002level0_row23\" class=\"row_heading level0 row23\" >402</th>\n",
              "                        <td id=\"T_79d89fca_3887_11eb_b18a_0242ac1c0002row23_col0\" class=\"data row23 col0\" >Nearly half of Missouri counties have not reported positive COVID19 cases</td>\n",
              "                        <td id=\"T_79d89fca_3887_11eb_b18a_0242ac1c0002row23_col1\" class=\"data row23 col1\" >0.690029</td>\n",
              "                        <td id=\"T_79d89fca_3887_11eb_b18a_0242ac1c0002row23_col2\" class=\"data row23 col2\" >1</td>\n",
              "                        <td id=\"T_79d89fca_3887_11eb_b18a_0242ac1c0002row23_col3\" class=\"data row23 col3\" >0</td>\n",
              "            </tr>\n",
              "            <tr>\n",
              "                        <th id=\"T_79d89fca_3887_11eb_b18a_0242ac1c0002level0_row24\" class=\"row_heading level0 row24\" >456</th>\n",
              "                        <td id=\"T_79d89fca_3887_11eb_b18a_0242ac1c0002row24_col0\" class=\"data row24 col0\" >With the void of leadership in the White House governors across the country have stepped up to meet this moment This afternoon Ill be joined by a few of them for a roundtable discussion on COVID19 Tune in at 330 PM ET to watch  </td>\n",
              "                        <td id=\"T_79d89fca_3887_11eb_b18a_0242ac1c0002row24_col1\" class=\"data row24 col1\" >0.673509</td>\n",
              "                        <td id=\"T_79d89fca_3887_11eb_b18a_0242ac1c0002row24_col2\" class=\"data row24 col2\" >1</td>\n",
              "                        <td id=\"T_79d89fca_3887_11eb_b18a_0242ac1c0002row24_col3\" class=\"data row24 col3\" >0</td>\n",
              "            </tr>\n",
              "            <tr>\n",
              "                        <th id=\"T_79d89fca_3887_11eb_b18a_0242ac1c0002level0_row25\" class=\"row_heading level0 row25\" >492</th>\n",
              "                        <td id=\"T_79d89fca_3887_11eb_b18a_0242ac1c0002row25_col0\" class=\"data row25 col0\" >Commonly used drugs hydroxychloroquine and chloroquine should be safe in trials to prevent COVID19 an NIHRresearchsupported study has reported Read more  prioritycovidresearch </td>\n",
              "                        <td id=\"T_79d89fca_3887_11eb_b18a_0242ac1c0002row25_col1\" class=\"data row25 col1\" >0.962080</td>\n",
              "                        <td id=\"T_79d89fca_3887_11eb_b18a_0242ac1c0002row25_col2\" class=\"data row25 col2\" >1</td>\n",
              "                        <td id=\"T_79d89fca_3887_11eb_b18a_0242ac1c0002row25_col3\" class=\"data row25 col3\" >0</td>\n",
              "            </tr>\n",
              "            <tr>\n",
              "                        <th id=\"T_79d89fca_3887_11eb_b18a_0242ac1c0002level0_row26\" class=\"row_heading level0 row26\" >511</th>\n",
              "                        <td id=\"T_79d89fca_3887_11eb_b18a_0242ac1c0002row26_col0\" class=\"data row26 col0\" >Coronavirus Company behind 15minute antigen test says its a game changer </td>\n",
              "                        <td id=\"T_79d89fca_3887_11eb_b18a_0242ac1c0002row26_col1\" class=\"data row26 col1\" >0.044152</td>\n",
              "                        <td id=\"T_79d89fca_3887_11eb_b18a_0242ac1c0002row26_col2\" class=\"data row26 col2\" >0</td>\n",
              "                        <td id=\"T_79d89fca_3887_11eb_b18a_0242ac1c0002row26_col3\" class=\"data row26 col3\" >1</td>\n",
              "            </tr>\n",
              "            <tr>\n",
              "                        <th id=\"T_79d89fca_3887_11eb_b18a_0242ac1c0002level0_row27\" class=\"row_heading level0 row27\" >534</th>\n",
              "                        <td id=\"T_79d89fca_3887_11eb_b18a_0242ac1c0002row27_col0\" class=\"data row27 col0\" >PM ScottMorrisonMP recently said a COVID19 vaccine would be as mandatory as you can possibly make it But what does that mean Experts we spoke to said it was unlikely the vaccination could be forced upon the population in Australia Heres why  </td>\n",
              "                        <td id=\"T_79d89fca_3887_11eb_b18a_0242ac1c0002row27_col1\" class=\"data row27 col1\" >0.868511</td>\n",
              "                        <td id=\"T_79d89fca_3887_11eb_b18a_0242ac1c0002row27_col2\" class=\"data row27 col2\" >1</td>\n",
              "                        <td id=\"T_79d89fca_3887_11eb_b18a_0242ac1c0002row27_col3\" class=\"data row27 col3\" >0</td>\n",
              "            </tr>\n",
              "            <tr>\n",
              "                        <th id=\"T_79d89fca_3887_11eb_b18a_0242ac1c0002level0_row28\" class=\"row_heading level0 row28\" >540</th>\n",
              "                        <td id=\"T_79d89fca_3887_11eb_b18a_0242ac1c0002row28_col0\" class=\"data row28 col0\" >Canadians average working commute 4 m COVID19 COVIDCanada</td>\n",
              "                        <td id=\"T_79d89fca_3887_11eb_b18a_0242ac1c0002row28_col1\" class=\"data row28 col1\" >0.891051</td>\n",
              "                        <td id=\"T_79d89fca_3887_11eb_b18a_0242ac1c0002row28_col2\" class=\"data row28 col2\" >1</td>\n",
              "                        <td id=\"T_79d89fca_3887_11eb_b18a_0242ac1c0002row28_col3\" class=\"data row28 col3\" >0</td>\n",
              "            </tr>\n",
              "            <tr>\n",
              "                        <th id=\"T_79d89fca_3887_11eb_b18a_0242ac1c0002level0_row29\" class=\"row_heading level0 row29\" >545</th>\n",
              "                        <td id=\"T_79d89fca_3887_11eb_b18a_0242ac1c0002row29_col0\" class=\"data row29 col0\" >WWN brings you groundbreaking reportage on government formation Coronavirus Brexit amp Climate ChangeSupport WWN and get bonus content here</td>\n",
              "                        <td id=\"T_79d89fca_3887_11eb_b18a_0242ac1c0002row29_col1\" class=\"data row29 col1\" >0.951797</td>\n",
              "                        <td id=\"T_79d89fca_3887_11eb_b18a_0242ac1c0002row29_col2\" class=\"data row29 col2\" >1</td>\n",
              "                        <td id=\"T_79d89fca_3887_11eb_b18a_0242ac1c0002row29_col3\" class=\"data row29 col3\" >0</td>\n",
              "            </tr>\n",
              "            <tr>\n",
              "                        <th id=\"T_79d89fca_3887_11eb_b18a_0242ac1c0002level0_row30\" class=\"row_heading level0 row30\" >564</th>\n",
              "                        <td id=\"T_79d89fca_3887_11eb_b18a_0242ac1c0002row30_col0\" class=\"data row30 col0\" >CryptoWalter There is a provision Rs 50 lakhs as insurance under PM Garib Kalyan Package to the family of a frontline healthcare worker who passed away due to COVID19 </td>\n",
              "                        <td id=\"T_79d89fca_3887_11eb_b18a_0242ac1c0002row30_col1\" class=\"data row30 col1\" >0.091595</td>\n",
              "                        <td id=\"T_79d89fca_3887_11eb_b18a_0242ac1c0002row30_col2\" class=\"data row30 col2\" >0</td>\n",
              "                        <td id=\"T_79d89fca_3887_11eb_b18a_0242ac1c0002row30_col3\" class=\"data row30 col3\" >1</td>\n",
              "            </tr>\n",
              "            <tr>\n",
              "                        <th id=\"T_79d89fca_3887_11eb_b18a_0242ac1c0002level0_row31\" class=\"row_heading level0 row31\" >580</th>\n",
              "                        <td id=\"T_79d89fca_3887_11eb_b18a_0242ac1c0002row31_col0\" class=\"data row31 col0\" >WHO expands coronavirus guidance after pressure from scientists over airborne spread </td>\n",
              "                        <td id=\"T_79d89fca_3887_11eb_b18a_0242ac1c0002row31_col1\" class=\"data row31 col1\" >0.753670</td>\n",
              "                        <td id=\"T_79d89fca_3887_11eb_b18a_0242ac1c0002row31_col2\" class=\"data row31 col2\" >1</td>\n",
              "                        <td id=\"T_79d89fca_3887_11eb_b18a_0242ac1c0002row31_col3\" class=\"data row31 col3\" >0</td>\n",
              "            </tr>\n",
              "            <tr>\n",
              "                        <th id=\"T_79d89fca_3887_11eb_b18a_0242ac1c0002level0_row32\" class=\"row_heading level0 row32\" >614</th>\n",
              "                        <td id=\"T_79d89fca_3887_11eb_b18a_0242ac1c0002row32_col0\" class=\"data row32 col0\" >Western countries such as Italy Spain France the UK do not treat elderly patients over 65</td>\n",
              "                        <td id=\"T_79d89fca_3887_11eb_b18a_0242ac1c0002row32_col1\" class=\"data row32 col1\" >0.533609</td>\n",
              "                        <td id=\"T_79d89fca_3887_11eb_b18a_0242ac1c0002row32_col2\" class=\"data row32 col2\" >1</td>\n",
              "                        <td id=\"T_79d89fca_3887_11eb_b18a_0242ac1c0002row32_col3\" class=\"data row32 col3\" >0</td>\n",
              "            </tr>\n",
              "            <tr>\n",
              "                        <th id=\"T_79d89fca_3887_11eb_b18a_0242ac1c0002level0_row33\" class=\"row_heading level0 row33\" >671</th>\n",
              "                        <td id=\"T_79d89fca_3887_11eb_b18a_0242ac1c0002row33_col0\" class=\"data row33 col0\" >Have you seen the hashtag OfficialSecretsAct It pertains to rumours that UK PM BorisJohnson never had COVID19 Well it should come as no surprise that its been debunked by fact checkers Heres the most recent issue of our CoronaCheck newsletter  </td>\n",
              "                        <td id=\"T_79d89fca_3887_11eb_b18a_0242ac1c0002row33_col1\" class=\"data row33 col1\" >0.632461</td>\n",
              "                        <td id=\"T_79d89fca_3887_11eb_b18a_0242ac1c0002row33_col2\" class=\"data row33 col2\" >1</td>\n",
              "                        <td id=\"T_79d89fca_3887_11eb_b18a_0242ac1c0002row33_col3\" class=\"data row33 col3\" >0</td>\n",
              "            </tr>\n",
              "            <tr>\n",
              "                        <th id=\"T_79d89fca_3887_11eb_b18a_0242ac1c0002level0_row34\" class=\"row_heading level0 row34\" >685</th>\n",
              "                        <td id=\"T_79d89fca_3887_11eb_b18a_0242ac1c0002row34_col0\" class=\"data row34 col0\" >Prof Rai The Principal Investigator of the Covid19 vaccine trial at Community Medicine and AIIMS announced that phase II trials for Covaxin will be completed by October and will move to phase III soon after trials</td>\n",
              "                        <td id=\"T_79d89fca_3887_11eb_b18a_0242ac1c0002row34_col1\" class=\"data row34 col1\" >0.913759</td>\n",
              "                        <td id=\"T_79d89fca_3887_11eb_b18a_0242ac1c0002row34_col2\" class=\"data row34 col2\" >1</td>\n",
              "                        <td id=\"T_79d89fca_3887_11eb_b18a_0242ac1c0002row34_col3\" class=\"data row34 col3\" >0</td>\n",
              "            </tr>\n",
              "            <tr>\n",
              "                        <th id=\"T_79d89fca_3887_11eb_b18a_0242ac1c0002level0_row35\" class=\"row_heading level0 row35\" >698</th>\n",
              "                        <td id=\"T_79d89fca_3887_11eb_b18a_0242ac1c0002row35_col0\" class=\"data row35 col0\" >RT dpfunke A data table from the World Bank is causing a lot of confusion about coronavirus testing equipment To be clear COVID19 tes</td>\n",
              "                        <td id=\"T_79d89fca_3887_11eb_b18a_0242ac1c0002row35_col1\" class=\"data row35 col1\" >0.928439</td>\n",
              "                        <td id=\"T_79d89fca_3887_11eb_b18a_0242ac1c0002row35_col2\" class=\"data row35 col2\" >1</td>\n",
              "                        <td id=\"T_79d89fca_3887_11eb_b18a_0242ac1c0002row35_col3\" class=\"data row35 col3\" >0</td>\n",
              "            </tr>\n",
              "            <tr>\n",
              "                        <th id=\"T_79d89fca_3887_11eb_b18a_0242ac1c0002level0_row36\" class=\"row_heading level0 row36\" >735</th>\n",
              "                        <td id=\"T_79d89fca_3887_11eb_b18a_0242ac1c0002row36_col0\" class=\"data row36 col0\" >SueSensus SuzanneEvans1 MattHancock The reason the NHS is refusing to treat vulnerable people with cheap readily available lifesaving medication in the midst of a pandemic is because it is a vehicle for social control not a health service Chloroquine was an OTC drug in UK prior to the COVID</td>\n",
              "                        <td id=\"T_79d89fca_3887_11eb_b18a_0242ac1c0002row36_col1\" class=\"data row36 col1\" >0.796097</td>\n",
              "                        <td id=\"T_79d89fca_3887_11eb_b18a_0242ac1c0002row36_col2\" class=\"data row36 col2\" >1</td>\n",
              "                        <td id=\"T_79d89fca_3887_11eb_b18a_0242ac1c0002row36_col3\" class=\"data row36 col3\" >0</td>\n",
              "            </tr>\n",
              "            <tr>\n",
              "                        <th id=\"T_79d89fca_3887_11eb_b18a_0242ac1c0002level0_row37\" class=\"row_heading level0 row37\" >746</th>\n",
              "                        <td id=\"T_79d89fca_3887_11eb_b18a_0242ac1c0002row37_col0\" class=\"data row37 col0\" >What makes Brazil the ideal testing ground for COVID19 vaccines </td>\n",
              "                        <td id=\"T_79d89fca_3887_11eb_b18a_0242ac1c0002row37_col1\" class=\"data row37 col1\" >0.331447</td>\n",
              "                        <td id=\"T_79d89fca_3887_11eb_b18a_0242ac1c0002row37_col2\" class=\"data row37 col2\" >0</td>\n",
              "                        <td id=\"T_79d89fca_3887_11eb_b18a_0242ac1c0002row37_col3\" class=\"data row37 col3\" >1</td>\n",
              "            </tr>\n",
              "            <tr>\n",
              "                        <th id=\"T_79d89fca_3887_11eb_b18a_0242ac1c0002level0_row38\" class=\"row_heading level0 row38\" >758</th>\n",
              "                        <td id=\"T_79d89fca_3887_11eb_b18a_0242ac1c0002row38_col0\" class=\"data row38 col0\" >The fight against Covid takes warriors Each and every one of us are warriors against this virus so make sure youre fighting it the right way Wash your hands Wear a mask StayAtHome We can beat this</td>\n",
              "                        <td id=\"T_79d89fca_3887_11eb_b18a_0242ac1c0002row38_col1\" class=\"data row38 col1\" >0.384374</td>\n",
              "                        <td id=\"T_79d89fca_3887_11eb_b18a_0242ac1c0002row38_col2\" class=\"data row38 col2\" >0</td>\n",
              "                        <td id=\"T_79d89fca_3887_11eb_b18a_0242ac1c0002row38_col3\" class=\"data row38 col3\" >1</td>\n",
              "            </tr>\n",
              "            <tr>\n",
              "                        <th id=\"T_79d89fca_3887_11eb_b18a_0242ac1c0002level0_row39\" class=\"row_heading level0 row39\" >792</th>\n",
              "                        <td id=\"T_79d89fca_3887_11eb_b18a_0242ac1c0002row39_col0\" class=\"data row39 col0\" >How has alcohol consumption changed during lockdown Read our latest CPD article for more information on how drinking habits have changed during the pandemic and the shortterm and longterm effects of alcohol misuseDrinkaware AlcoholChangeUK  </td>\n",
              "                        <td id=\"T_79d89fca_3887_11eb_b18a_0242ac1c0002row39_col1\" class=\"data row39 col1\" >0.913976</td>\n",
              "                        <td id=\"T_79d89fca_3887_11eb_b18a_0242ac1c0002row39_col2\" class=\"data row39 col2\" >1</td>\n",
              "                        <td id=\"T_79d89fca_3887_11eb_b18a_0242ac1c0002row39_col3\" class=\"data row39 col3\" >0</td>\n",
              "            </tr>\n",
              "            <tr>\n",
              "                        <th id=\"T_79d89fca_3887_11eb_b18a_0242ac1c0002level0_row40\" class=\"row_heading level0 row40\" >801</th>\n",
              "                        <td id=\"T_79d89fca_3887_11eb_b18a_0242ac1c0002row40_col0\" class=\"data row40 col0\" >Two European patients reinfected with coronavirus raising concerns about immunity and vaccine efficacy  </td>\n",
              "                        <td id=\"T_79d89fca_3887_11eb_b18a_0242ac1c0002row40_col1\" class=\"data row40 col1\" >0.319020</td>\n",
              "                        <td id=\"T_79d89fca_3887_11eb_b18a_0242ac1c0002row40_col2\" class=\"data row40 col2\" >0</td>\n",
              "                        <td id=\"T_79d89fca_3887_11eb_b18a_0242ac1c0002row40_col3\" class=\"data row40 col3\" >1</td>\n",
              "            </tr>\n",
              "            <tr>\n",
              "                        <th id=\"T_79d89fca_3887_11eb_b18a_0242ac1c0002level0_row41\" class=\"row_heading level0 row41\" >842</th>\n",
              "                        <td id=\"T_79d89fca_3887_11eb_b18a_0242ac1c0002row41_col0\" class=\"data row41 col0\" >ThePollDude ktwopines 2 This is not a miracle drug for allThere have been no studies showing that these medications work for prevention and the FDA has issued a warning for serious heartrelated side effects if hydroxychloroquine or chloroquine are taken outside of a hospital setting for COVID19</td>\n",
              "                        <td id=\"T_79d89fca_3887_11eb_b18a_0242ac1c0002row41_col1\" class=\"data row41 col1\" >0.590836</td>\n",
              "                        <td id=\"T_79d89fca_3887_11eb_b18a_0242ac1c0002row41_col2\" class=\"data row41 col2\" >1</td>\n",
              "                        <td id=\"T_79d89fca_3887_11eb_b18a_0242ac1c0002row41_col3\" class=\"data row41 col3\" >0</td>\n",
              "            </tr>\n",
              "            <tr>\n",
              "                        <th id=\"T_79d89fca_3887_11eb_b18a_0242ac1c0002level0_row42\" class=\"row_heading level0 row42\" >921</th>\n",
              "                        <td id=\"T_79d89fca_3887_11eb_b18a_0242ac1c0002row42_col0\" class=\"data row42 col0\" >COVID19 testing could be done with mouth swabs so maybe deeper swabbing is implanting something</td>\n",
              "                        <td id=\"T_79d89fca_3887_11eb_b18a_0242ac1c0002row42_col1\" class=\"data row42 col1\" >0.776966</td>\n",
              "                        <td id=\"T_79d89fca_3887_11eb_b18a_0242ac1c0002row42_col2\" class=\"data row42 col2\" >1</td>\n",
              "                        <td id=\"T_79d89fca_3887_11eb_b18a_0242ac1c0002row42_col3\" class=\"data row42 col3\" >0</td>\n",
              "            </tr>\n",
              "            <tr>\n",
              "                        <th id=\"T_79d89fca_3887_11eb_b18a_0242ac1c0002level0_row43\" class=\"row_heading level0 row43\" >940</th>\n",
              "                        <td id=\"T_79d89fca_3887_11eb_b18a_0242ac1c0002row43_col0\" class=\"data row43 col0\" >Retirees may face new assets test as Govt considers proposal to cut age pension for some</td>\n",
              "                        <td id=\"T_79d89fca_3887_11eb_b18a_0242ac1c0002row43_col1\" class=\"data row43 col1\" >0.924501</td>\n",
              "                        <td id=\"T_79d89fca_3887_11eb_b18a_0242ac1c0002row43_col2\" class=\"data row43 col2\" >1</td>\n",
              "                        <td id=\"T_79d89fca_3887_11eb_b18a_0242ac1c0002row43_col3\" class=\"data row43 col3\" >0</td>\n",
              "            </tr>\n",
              "            <tr>\n",
              "                        <th id=\"T_79d89fca_3887_11eb_b18a_0242ac1c0002level0_row44\" class=\"row_heading level0 row44\" >955</th>\n",
              "                        <td id=\"T_79d89fca_3887_11eb_b18a_0242ac1c0002row44_col0\" class=\"data row44 col0\" >If you have had a flu shot in the last 35 years you will probably test positive for COVID19</td>\n",
              "                        <td id=\"T_79d89fca_3887_11eb_b18a_0242ac1c0002row44_col1\" class=\"data row44 col1\" >0.580352</td>\n",
              "                        <td id=\"T_79d89fca_3887_11eb_b18a_0242ac1c0002row44_col2\" class=\"data row44 col2\" >1</td>\n",
              "                        <td id=\"T_79d89fca_3887_11eb_b18a_0242ac1c0002row44_col3\" class=\"data row44 col3\" >0</td>\n",
              "            </tr>\n",
              "            <tr>\n",
              "                        <th id=\"T_79d89fca_3887_11eb_b18a_0242ac1c0002level0_row45\" class=\"row_heading level0 row45\" >983</th>\n",
              "                        <td id=\"T_79d89fca_3887_11eb_b18a_0242ac1c0002row45_col0\" class=\"data row45 col0\" >19 clarifications so that the population is no longer misled about COVID19</td>\n",
              "                        <td id=\"T_79d89fca_3887_11eb_b18a_0242ac1c0002row45_col1\" class=\"data row45 col1\" >0.523043</td>\n",
              "                        <td id=\"T_79d89fca_3887_11eb_b18a_0242ac1c0002row45_col2\" class=\"data row45 col2\" >1</td>\n",
              "                        <td id=\"T_79d89fca_3887_11eb_b18a_0242ac1c0002row45_col3\" class=\"data row45 col3\" >0</td>\n",
              "            </tr>\n",
              "            <tr>\n",
              "                        <th id=\"T_79d89fca_3887_11eb_b18a_0242ac1c0002level0_row46\" class=\"row_heading level0 row46\" >1043</th>\n",
              "                        <td id=\"T_79d89fca_3887_11eb_b18a_0242ac1c0002row46_col0\" class=\"data row46 col0\" >You can still fly the friendly skies without fear of COVID if airlines stay serious about safety  coronavirus</td>\n",
              "                        <td id=\"T_79d89fca_3887_11eb_b18a_0242ac1c0002row46_col1\" class=\"data row46 col1\" >0.288209</td>\n",
              "                        <td id=\"T_79d89fca_3887_11eb_b18a_0242ac1c0002row46_col2\" class=\"data row46 col2\" >0</td>\n",
              "                        <td id=\"T_79d89fca_3887_11eb_b18a_0242ac1c0002row46_col3\" class=\"data row46 col3\" >1</td>\n",
              "            </tr>\n",
              "            <tr>\n",
              "                        <th id=\"T_79d89fca_3887_11eb_b18a_0242ac1c0002level0_row47\" class=\"row_heading level0 row47\" >1080</th>\n",
              "                        <td id=\"T_79d89fca_3887_11eb_b18a_0242ac1c0002row47_col0\" class=\"data row47 col0\" >All Missouri businesses can open Monday May 4 under our new Order as long as new guidelines are followed</td>\n",
              "                        <td id=\"T_79d89fca_3887_11eb_b18a_0242ac1c0002row47_col1\" class=\"data row47 col1\" >0.891682</td>\n",
              "                        <td id=\"T_79d89fca_3887_11eb_b18a_0242ac1c0002row47_col2\" class=\"data row47 col2\" >1</td>\n",
              "                        <td id=\"T_79d89fca_3887_11eb_b18a_0242ac1c0002row47_col3\" class=\"data row47 col3\" >0</td>\n",
              "            </tr>\n",
              "            <tr>\n",
              "                        <th id=\"T_79d89fca_3887_11eb_b18a_0242ac1c0002level0_row48\" class=\"row_heading level0 row48\" >1095</th>\n",
              "                        <td id=\"T_79d89fca_3887_11eb_b18a_0242ac1c0002row48_col0\" class=\"data row48 col0\" >ICYMI Deborah Birx 3820 White House Briefing I know many of you are watching the Covid Act Now model and the IHME model from  and they have consistently decreased the numberThat is modeled on what America is doing Thats whats happening </td>\n",
              "                        <td id=\"T_79d89fca_3887_11eb_b18a_0242ac1c0002row48_col1\" class=\"data row48 col1\" >0.062872</td>\n",
              "                        <td id=\"T_79d89fca_3887_11eb_b18a_0242ac1c0002row48_col2\" class=\"data row48 col2\" >0</td>\n",
              "                        <td id=\"T_79d89fca_3887_11eb_b18a_0242ac1c0002row48_col3\" class=\"data row48 col3\" >1</td>\n",
              "            </tr>\n",
              "            <tr>\n",
              "                        <th id=\"T_79d89fca_3887_11eb_b18a_0242ac1c0002level0_row49\" class=\"row_heading level0 row49\" >1126</th>\n",
              "                        <td id=\"T_79d89fca_3887_11eb_b18a_0242ac1c0002row49_col0\" class=\"data row49 col0\" >realdonaldtrump cherrypicked one stat to prove that the US is doing better than most countries in the COVID19 fight Other key measures show the opposite See the charts </td>\n",
              "                        <td id=\"T_79d89fca_3887_11eb_b18a_0242ac1c0002row49_col1\" class=\"data row49 col1\" >0.905693</td>\n",
              "                        <td id=\"T_79d89fca_3887_11eb_b18a_0242ac1c0002row49_col2\" class=\"data row49 col2\" >1</td>\n",
              "                        <td id=\"T_79d89fca_3887_11eb_b18a_0242ac1c0002row49_col3\" class=\"data row49 col3\" >0</td>\n",
              "            </tr>\n",
              "            <tr>\n",
              "                        <th id=\"T_79d89fca_3887_11eb_b18a_0242ac1c0002level0_row50\" class=\"row_heading level0 row50\" >1145</th>\n",
              "                        <td id=\"T_79d89fca_3887_11eb_b18a_0242ac1c0002row50_col0\" class=\"data row50 col0\" >Coronavirus Update Continuous screening of passengers coming from China Hong Kong Singapore  Thailand is being done at KolkataAirport at four dedicated aerobridges with health checkup facilities</td>\n",
              "                        <td id=\"T_79d89fca_3887_11eb_b18a_0242ac1c0002row50_col1\" class=\"data row50 col1\" >0.936338</td>\n",
              "                        <td id=\"T_79d89fca_3887_11eb_b18a_0242ac1c0002row50_col2\" class=\"data row50 col2\" >1</td>\n",
              "                        <td id=\"T_79d89fca_3887_11eb_b18a_0242ac1c0002row50_col3\" class=\"data row50 col3\" >0</td>\n",
              "            </tr>\n",
              "            <tr>\n",
              "                        <th id=\"T_79d89fca_3887_11eb_b18a_0242ac1c0002level0_row51\" class=\"row_heading level0 row51\" >1157</th>\n",
              "                        <td id=\"T_79d89fca_3887_11eb_b18a_0242ac1c0002row51_col0\" class=\"data row51 col0\" >Hollywood actor Paul Rudd has encouraged young people to wear face masks in an entertaining video as the US grapples with the COVID19 pandemic </td>\n",
              "                        <td id=\"T_79d89fca_3887_11eb_b18a_0242ac1c0002row51_col1\" class=\"data row51 col1\" >0.154115</td>\n",
              "                        <td id=\"T_79d89fca_3887_11eb_b18a_0242ac1c0002row51_col2\" class=\"data row51 col2\" >0</td>\n",
              "                        <td id=\"T_79d89fca_3887_11eb_b18a_0242ac1c0002row51_col3\" class=\"data row51 col3\" >1</td>\n",
              "            </tr>\n",
              "            <tr>\n",
              "                        <th id=\"T_79d89fca_3887_11eb_b18a_0242ac1c0002level0_row52\" class=\"row_heading level0 row52\" >1160</th>\n",
              "                        <td id=\"T_79d89fca_3887_11eb_b18a_0242ac1c0002row52_col0\" class=\"data row52 col0\" >Noel Gallagher says he refuses to wear a face mask while shopping as he goes against laws brought in during the pandemic to curb the spread of coronavirus </td>\n",
              "                        <td id=\"T_79d89fca_3887_11eb_b18a_0242ac1c0002row52_col1\" class=\"data row52 col1\" >0.076028</td>\n",
              "                        <td id=\"T_79d89fca_3887_11eb_b18a_0242ac1c0002row52_col2\" class=\"data row52 col2\" >0</td>\n",
              "                        <td id=\"T_79d89fca_3887_11eb_b18a_0242ac1c0002row52_col3\" class=\"data row52 col3\" >1</td>\n",
              "            </tr>\n",
              "            <tr>\n",
              "                        <th id=\"T_79d89fca_3887_11eb_b18a_0242ac1c0002level0_row53\" class=\"row_heading level0 row53\" >1188</th>\n",
              "                        <td id=\"T_79d89fca_3887_11eb_b18a_0242ac1c0002row53_col0\" class=\"data row53 col0\" >If you have a hair dryer with hot air application you can easily overcome the COVID 19</td>\n",
              "                        <td id=\"T_79d89fca_3887_11eb_b18a_0242ac1c0002row53_col1\" class=\"data row53 col1\" >0.938388</td>\n",
              "                        <td id=\"T_79d89fca_3887_11eb_b18a_0242ac1c0002row53_col2\" class=\"data row53 col2\" >1</td>\n",
              "                        <td id=\"T_79d89fca_3887_11eb_b18a_0242ac1c0002row53_col3\" class=\"data row53 col3\" >0</td>\n",
              "            </tr>\n",
              "            <tr>\n",
              "                        <th id=\"T_79d89fca_3887_11eb_b18a_0242ac1c0002level0_row54\" class=\"row_heading level0 row54\" >1247</th>\n",
              "                        <td id=\"T_79d89fca_3887_11eb_b18a_0242ac1c0002row54_col0\" class=\"data row54 col0\" >RT PrakashJavdekar Fines of Rs 500 and Rs 1000 for not wearing a mask and spitting in public respectively to be implemented strictly h</td>\n",
              "                        <td id=\"T_79d89fca_3887_11eb_b18a_0242ac1c0002row54_col1\" class=\"data row54 col1\" >0.333429</td>\n",
              "                        <td id=\"T_79d89fca_3887_11eb_b18a_0242ac1c0002row54_col2\" class=\"data row54 col2\" >0</td>\n",
              "                        <td id=\"T_79d89fca_3887_11eb_b18a_0242ac1c0002row54_col3\" class=\"data row54 col3\" >1</td>\n",
              "            </tr>\n",
              "            <tr>\n",
              "                        <th id=\"T_79d89fca_3887_11eb_b18a_0242ac1c0002level0_row55\" class=\"row_heading level0 row55\" >1259</th>\n",
              "                        <td id=\"T_79d89fca_3887_11eb_b18a_0242ac1c0002row55_col0\" class=\"data row55 col0\" >Hepatitis C drugs show promise against the coronavirus but clinical trials must confirm  </td>\n",
              "                        <td id=\"T_79d89fca_3887_11eb_b18a_0242ac1c0002row55_col1\" class=\"data row55 col1\" >0.330218</td>\n",
              "                        <td id=\"T_79d89fca_3887_11eb_b18a_0242ac1c0002row55_col2\" class=\"data row55 col2\" >0</td>\n",
              "                        <td id=\"T_79d89fca_3887_11eb_b18a_0242ac1c0002row55_col3\" class=\"data row55 col3\" >1</td>\n",
              "            </tr>\n",
              "            <tr>\n",
              "                        <th id=\"T_79d89fca_3887_11eb_b18a_0242ac1c0002level0_row56\" class=\"row_heading level0 row56\" >1265</th>\n",
              "                        <td id=\"T_79d89fca_3887_11eb_b18a_0242ac1c0002row56_col0\" class=\"data row56 col0\" >Workers called back on the job deserve access to regular reliable COVID19 testing</td>\n",
              "                        <td id=\"T_79d89fca_3887_11eb_b18a_0242ac1c0002row56_col1\" class=\"data row56 col1\" >0.512357</td>\n",
              "                        <td id=\"T_79d89fca_3887_11eb_b18a_0242ac1c0002row56_col2\" class=\"data row56 col2\" >1</td>\n",
              "                        <td id=\"T_79d89fca_3887_11eb_b18a_0242ac1c0002row56_col3\" class=\"data row56 col3\" >0</td>\n",
              "            </tr>\n",
              "            <tr>\n",
              "                        <th id=\"T_79d89fca_3887_11eb_b18a_0242ac1c0002level0_row57\" class=\"row_heading level0 row57\" >1272</th>\n",
              "                        <td id=\"T_79d89fca_3887_11eb_b18a_0242ac1c0002row57_col0\" class=\"data row57 col0\" >The CDC updated the COVID19 number to admit that only 6 of all the 153504 deaths recorded actually died from COVID19</td>\n",
              "                        <td id=\"T_79d89fca_3887_11eb_b18a_0242ac1c0002row57_col1\" class=\"data row57 col1\" >0.664365</td>\n",
              "                        <td id=\"T_79d89fca_3887_11eb_b18a_0242ac1c0002row57_col2\" class=\"data row57 col2\" >1</td>\n",
              "                        <td id=\"T_79d89fca_3887_11eb_b18a_0242ac1c0002row57_col3\" class=\"data row57 col3\" >0</td>\n",
              "            </tr>\n",
              "            <tr>\n",
              "                        <th id=\"T_79d89fca_3887_11eb_b18a_0242ac1c0002level0_row58\" class=\"row_heading level0 row58\" >1274</th>\n",
              "                        <td id=\"T_79d89fca_3887_11eb_b18a_0242ac1c0002row58_col0\" class=\"data row58 col0\" >NEJM letter says saliva test as good or better than nasal swab for COVID test </td>\n",
              "                        <td id=\"T_79d89fca_3887_11eb_b18a_0242ac1c0002row58_col1\" class=\"data row58 col1\" >0.051378</td>\n",
              "                        <td id=\"T_79d89fca_3887_11eb_b18a_0242ac1c0002row58_col2\" class=\"data row58 col2\" >0</td>\n",
              "                        <td id=\"T_79d89fca_3887_11eb_b18a_0242ac1c0002row58_col3\" class=\"data row58 col3\" >1</td>\n",
              "            </tr>\n",
              "            <tr>\n",
              "                        <th id=\"T_79d89fca_3887_11eb_b18a_0242ac1c0002level0_row59\" class=\"row_heading level0 row59\" >1292</th>\n",
              "                        <td id=\"T_79d89fca_3887_11eb_b18a_0242ac1c0002row59_col0\" class=\"data row59 col0\" >The coronavirus pandemic can be dramatically slowed or stopped with the immediate widespread use of high doses of vitamin C</td>\n",
              "                        <td id=\"T_79d89fca_3887_11eb_b18a_0242ac1c0002row59_col1\" class=\"data row59 col1\" >0.652403</td>\n",
              "                        <td id=\"T_79d89fca_3887_11eb_b18a_0242ac1c0002row59_col2\" class=\"data row59 col2\" >1</td>\n",
              "                        <td id=\"T_79d89fca_3887_11eb_b18a_0242ac1c0002row59_col3\" class=\"data row59 col3\" >0</td>\n",
              "            </tr>\n",
              "            <tr>\n",
              "                        <th id=\"T_79d89fca_3887_11eb_b18a_0242ac1c0002level0_row60\" class=\"row_heading level0 row60\" >1354</th>\n",
              "                        <td id=\"T_79d89fca_3887_11eb_b18a_0242ac1c0002row60_col0\" class=\"data row60 col0\" >North Carolina  Virginia State line is closed Nothing in or out</td>\n",
              "                        <td id=\"T_79d89fca_3887_11eb_b18a_0242ac1c0002row60_col1\" class=\"data row60 col1\" >0.615360</td>\n",
              "                        <td id=\"T_79d89fca_3887_11eb_b18a_0242ac1c0002row60_col2\" class=\"data row60 col2\" >1</td>\n",
              "                        <td id=\"T_79d89fca_3887_11eb_b18a_0242ac1c0002row60_col3\" class=\"data row60 col3\" >0</td>\n",
              "            </tr>\n",
              "            <tr>\n",
              "                        <th id=\"T_79d89fca_3887_11eb_b18a_0242ac1c0002level0_row61\" class=\"row_heading level0 row61\" >1375</th>\n",
              "                        <td id=\"T_79d89fca_3887_11eb_b18a_0242ac1c0002row61_col0\" class=\"data row61 col0\" >RT DrKhabbazCDC In a new study CDCgov pathologists found that the virus that causes COVID19 lodges itself deep in the lungs and also a</td>\n",
              "                        <td id=\"T_79d89fca_3887_11eb_b18a_0242ac1c0002row61_col1\" class=\"data row61 col1\" >0.134528</td>\n",
              "                        <td id=\"T_79d89fca_3887_11eb_b18a_0242ac1c0002row61_col2\" class=\"data row61 col2\" >0</td>\n",
              "                        <td id=\"T_79d89fca_3887_11eb_b18a_0242ac1c0002row61_col3\" class=\"data row61 col3\" >1</td>\n",
              "            </tr>\n",
              "            <tr>\n",
              "                        <th id=\"T_79d89fca_3887_11eb_b18a_0242ac1c0002level0_row62\" class=\"row_heading level0 row62\" >1384</th>\n",
              "                        <td id=\"T_79d89fca_3887_11eb_b18a_0242ac1c0002row62_col0\" class=\"data row62 col0\" >EMA endorses the use of dexamethasone for COVID19 </td>\n",
              "                        <td id=\"T_79d89fca_3887_11eb_b18a_0242ac1c0002row62_col1\" class=\"data row62 col1\" >0.347312</td>\n",
              "                        <td id=\"T_79d89fca_3887_11eb_b18a_0242ac1c0002row62_col2\" class=\"data row62 col2\" >0</td>\n",
              "                        <td id=\"T_79d89fca_3887_11eb_b18a_0242ac1c0002row62_col3\" class=\"data row62 col3\" >1</td>\n",
              "            </tr>\n",
              "            <tr>\n",
              "                        <th id=\"T_79d89fca_3887_11eb_b18a_0242ac1c0002level0_row63\" class=\"row_heading level0 row63\" >1391</th>\n",
              "                        <td id=\"T_79d89fca_3887_11eb_b18a_0242ac1c0002row63_col0\" class=\"data row63 col0\" >Turns out the NHS cannot make a better COVID tracking app than Google or Apple  </td>\n",
              "                        <td id=\"T_79d89fca_3887_11eb_b18a_0242ac1c0002row63_col1\" class=\"data row63 col1\" >0.334635</td>\n",
              "                        <td id=\"T_79d89fca_3887_11eb_b18a_0242ac1c0002row63_col2\" class=\"data row63 col2\" >0</td>\n",
              "                        <td id=\"T_79d89fca_3887_11eb_b18a_0242ac1c0002row63_col3\" class=\"data row63 col3\" >1</td>\n",
              "            </tr>\n",
              "            <tr>\n",
              "                        <th id=\"T_79d89fca_3887_11eb_b18a_0242ac1c0002level0_row64\" class=\"row_heading level0 row64\" >1392</th>\n",
              "                        <td id=\"T_79d89fca_3887_11eb_b18a_0242ac1c0002row64_col0\" class=\"data row64 col0\" >India conducts one million COVID19 tests in the last 24 hours </td>\n",
              "                        <td id=\"T_79d89fca_3887_11eb_b18a_0242ac1c0002row64_col1\" class=\"data row64 col1\" >0.156255</td>\n",
              "                        <td id=\"T_79d89fca_3887_11eb_b18a_0242ac1c0002row64_col2\" class=\"data row64 col2\" >0</td>\n",
              "                        <td id=\"T_79d89fca_3887_11eb_b18a_0242ac1c0002row64_col3\" class=\"data row64 col3\" >1</td>\n",
              "            </tr>\n",
              "            <tr>\n",
              "                        <th id=\"T_79d89fca_3887_11eb_b18a_0242ac1c0002level0_row65\" class=\"row_heading level0 row65\" >1467</th>\n",
              "                        <td id=\"T_79d89fca_3887_11eb_b18a_0242ac1c0002row65_col0\" class=\"data row65 col0\" >With over 14000 new infections recorded Indias total confirmed cases cross 425 lakh Union Home Minister Amit Shah directs Delhi government to report all deaths to the Centre and demarcate containment zones afresh COVID19 CoronavirusFacts </td>\n",
              "                        <td id=\"T_79d89fca_3887_11eb_b18a_0242ac1c0002row65_col1\" class=\"data row65 col1\" >0.652583</td>\n",
              "                        <td id=\"T_79d89fca_3887_11eb_b18a_0242ac1c0002row65_col2\" class=\"data row65 col2\" >1</td>\n",
              "                        <td id=\"T_79d89fca_3887_11eb_b18a_0242ac1c0002row65_col3\" class=\"data row65 col3\" >0</td>\n",
              "            </tr>\n",
              "            <tr>\n",
              "                        <th id=\"T_79d89fca_3887_11eb_b18a_0242ac1c0002level0_row66\" class=\"row_heading level0 row66\" >1474</th>\n",
              "                        <td id=\"T_79d89fca_3887_11eb_b18a_0242ac1c0002row66_col0\" class=\"data row66 col0\" >Doug Ford reveals Stage 3 has no plan to reopen schools but will lower drinking age to 8 onpoli COVID19  </td>\n",
              "                        <td id=\"T_79d89fca_3887_11eb_b18a_0242ac1c0002row66_col1\" class=\"data row66 col1\" >0.915609</td>\n",
              "                        <td id=\"T_79d89fca_3887_11eb_b18a_0242ac1c0002row66_col2\" class=\"data row66 col2\" >1</td>\n",
              "                        <td id=\"T_79d89fca_3887_11eb_b18a_0242ac1c0002row66_col3\" class=\"data row66 col3\" >0</td>\n",
              "            </tr>\n",
              "            <tr>\n",
              "                        <th id=\"T_79d89fca_3887_11eb_b18a_0242ac1c0002level0_row67\" class=\"row_heading level0 row67\" >1479</th>\n",
              "                        <td id=\"T_79d89fca_3887_11eb_b18a_0242ac1c0002row67_col0\" class=\"data row67 col0\" >A Target spokesperson said the company plans to continue Heroes amp Helpers an event that pairs underserved children with officers to shop for holiday gifts The company says careful considerations are underway on how to manage the event amid COVID19 </td>\n",
              "                        <td id=\"T_79d89fca_3887_11eb_b18a_0242ac1c0002row67_col1\" class=\"data row67 col1\" >0.937273</td>\n",
              "                        <td id=\"T_79d89fca_3887_11eb_b18a_0242ac1c0002row67_col2\" class=\"data row67 col2\" >1</td>\n",
              "                        <td id=\"T_79d89fca_3887_11eb_b18a_0242ac1c0002row67_col3\" class=\"data row67 col3\" >0</td>\n",
              "            </tr>\n",
              "            <tr>\n",
              "                        <th id=\"T_79d89fca_3887_11eb_b18a_0242ac1c0002level0_row68\" class=\"row_heading level0 row68\" >1505</th>\n",
              "                        <td id=\"T_79d89fca_3887_11eb_b18a_0242ac1c0002row68_col0\" class=\"data row68 col0\" >In February CDC Director Robert Redfield said healthy people shouldnt wear masks  but that advice is long outdated This month he said theyre our best defense against COVID19 </td>\n",
              "                        <td id=\"T_79d89fca_3887_11eb_b18a_0242ac1c0002row68_col1\" class=\"data row68 col1\" >0.632711</td>\n",
              "                        <td id=\"T_79d89fca_3887_11eb_b18a_0242ac1c0002row68_col2\" class=\"data row68 col2\" >1</td>\n",
              "                        <td id=\"T_79d89fca_3887_11eb_b18a_0242ac1c0002row68_col3\" class=\"data row68 col3\" >0</td>\n",
              "            </tr>\n",
              "            <tr>\n",
              "                        <th id=\"T_79d89fca_3887_11eb_b18a_0242ac1c0002level0_row69\" class=\"row_heading level0 row69\" >1525</th>\n",
              "                        <td id=\"T_79d89fca_3887_11eb_b18a_0242ac1c0002row69_col0\" class=\"data row69 col0\" >The premature travel ban to and from China by the current administration is just an excuse to further his ongoing war against immigrants There must be a check and Balance on these restrictions</td>\n",
              "                        <td id=\"T_79d89fca_3887_11eb_b18a_0242ac1c0002row69_col1\" class=\"data row69 col1\" >0.615435</td>\n",
              "                        <td id=\"T_79d89fca_3887_11eb_b18a_0242ac1c0002row69_col2\" class=\"data row69 col2\" >1</td>\n",
              "                        <td id=\"T_79d89fca_3887_11eb_b18a_0242ac1c0002row69_col3\" class=\"data row69 col3\" >0</td>\n",
              "            </tr>\n",
              "            <tr>\n",
              "                        <th id=\"T_79d89fca_3887_11eb_b18a_0242ac1c0002level0_row70\" class=\"row_heading level0 row70\" >1530</th>\n",
              "                        <td id=\"T_79d89fca_3887_11eb_b18a_0242ac1c0002row70_col0\" class=\"data row70 col0\" >Children are not immune to the coronavirus </td>\n",
              "                        <td id=\"T_79d89fca_3887_11eb_b18a_0242ac1c0002row70_col1\" class=\"data row70 col1\" >0.062236</td>\n",
              "                        <td id=\"T_79d89fca_3887_11eb_b18a_0242ac1c0002row70_col2\" class=\"data row70 col2\" >0</td>\n",
              "                        <td id=\"T_79d89fca_3887_11eb_b18a_0242ac1c0002row70_col3\" class=\"data row70 col3\" >1</td>\n",
              "            </tr>\n",
              "            <tr>\n",
              "                        <th id=\"T_79d89fca_3887_11eb_b18a_0242ac1c0002level0_row71\" class=\"row_heading level0 row71\" >1534</th>\n",
              "                        <td id=\"T_79d89fca_3887_11eb_b18a_0242ac1c0002row71_col0\" class=\"data row71 col0\" >The Global dietarysupplements market is anticipated to grow at a CAGR of around 750 during 202025 Check the full report food beverage marketresearch marketstrategy USA animalhusbandry covid19 kerrygroup nutrients Immunity Energy </td>\n",
              "                        <td id=\"T_79d89fca_3887_11eb_b18a_0242ac1c0002row71_col1\" class=\"data row71 col1\" >0.951701</td>\n",
              "                        <td id=\"T_79d89fca_3887_11eb_b18a_0242ac1c0002row71_col2\" class=\"data row71 col2\" >1</td>\n",
              "                        <td id=\"T_79d89fca_3887_11eb_b18a_0242ac1c0002row71_col3\" class=\"data row71 col3\" >0</td>\n",
              "            </tr>\n",
              "            <tr>\n",
              "                        <th id=\"T_79d89fca_3887_11eb_b18a_0242ac1c0002level0_row72\" class=\"row_heading level0 row72\" >1552</th>\n",
              "                        <td id=\"T_79d89fca_3887_11eb_b18a_0242ac1c0002row72_col0\" class=\"data row72 col0\" >The rate of coronavirusrelated deaths being reported out of New York City is 200 times higher than the death rates of the worlds largest 10 cities</td>\n",
              "                        <td id=\"T_79d89fca_3887_11eb_b18a_0242ac1c0002row72_col1\" class=\"data row72 col1\" >0.608330</td>\n",
              "                        <td id=\"T_79d89fca_3887_11eb_b18a_0242ac1c0002row72_col2\" class=\"data row72 col2\" >1</td>\n",
              "                        <td id=\"T_79d89fca_3887_11eb_b18a_0242ac1c0002row72_col3\" class=\"data row72 col3\" >0</td>\n",
              "            </tr>\n",
              "            <tr>\n",
              "                        <th id=\"T_79d89fca_3887_11eb_b18a_0242ac1c0002level0_row73\" class=\"row_heading level0 row73\" >1599</th>\n",
              "                        <td id=\"T_79d89fca_3887_11eb_b18a_0242ac1c0002row73_col0\" class=\"data row73 col0\" >If you only read three stories  PM to announce new COVID measures including restaurant curfew   People who get flu and COVID in trouble  health expert   John Lennons killer apologises to widow  </td>\n",
              "                        <td id=\"T_79d89fca_3887_11eb_b18a_0242ac1c0002row73_col1\" class=\"data row73 col1\" >0.047424</td>\n",
              "                        <td id=\"T_79d89fca_3887_11eb_b18a_0242ac1c0002row73_col2\" class=\"data row73 col2\" >0</td>\n",
              "                        <td id=\"T_79d89fca_3887_11eb_b18a_0242ac1c0002row73_col3\" class=\"data row73 col3\" >1</td>\n",
              "            </tr>\n",
              "            <tr>\n",
              "                        <th id=\"T_79d89fca_3887_11eb_b18a_0242ac1c0002level0_row74\" class=\"row_heading level0 row74\" >1616</th>\n",
              "                        <td id=\"T_79d89fca_3887_11eb_b18a_0242ac1c0002row74_col0\" class=\"data row74 col0\" >Rushed COVID19 papers Interpret with caution says JCOASCO  </td>\n",
              "                        <td id=\"T_79d89fca_3887_11eb_b18a_0242ac1c0002row74_col1\" class=\"data row74 col1\" >0.191244</td>\n",
              "                        <td id=\"T_79d89fca_3887_11eb_b18a_0242ac1c0002row74_col2\" class=\"data row74 col2\" >0</td>\n",
              "                        <td id=\"T_79d89fca_3887_11eb_b18a_0242ac1c0002row74_col3\" class=\"data row74 col3\" >1</td>\n",
              "            </tr>\n",
              "            <tr>\n",
              "                        <th id=\"T_79d89fca_3887_11eb_b18a_0242ac1c0002level0_row75\" class=\"row_heading level0 row75\" >1618</th>\n",
              "                        <td id=\"T_79d89fca_3887_11eb_b18a_0242ac1c0002row75_col0\" class=\"data row75 col0\" >Sources confirm COVID 19 Vaccine Needs at least 6 to 10m for Clinical Trials on more than 5000 But ICMR Choosing only 1100 ve Patients amp Eager to complete Before August 152020 means  </td>\n",
              "                        <td id=\"T_79d89fca_3887_11eb_b18a_0242ac1c0002row75_col1\" class=\"data row75 col1\" >0.946674</td>\n",
              "                        <td id=\"T_79d89fca_3887_11eb_b18a_0242ac1c0002row75_col2\" class=\"data row75 col2\" >1</td>\n",
              "                        <td id=\"T_79d89fca_3887_11eb_b18a_0242ac1c0002row75_col3\" class=\"data row75 col3\" >0</td>\n",
              "            </tr>\n",
              "            <tr>\n",
              "                        <th id=\"T_79d89fca_3887_11eb_b18a_0242ac1c0002level0_row76\" class=\"row_heading level0 row76\" >1640</th>\n",
              "                        <td id=\"T_79d89fca_3887_11eb_b18a_0242ac1c0002row76_col0\" class=\"data row76 col0\" >Covaxin Indias indigenous Covid19 vaccine is developed by BharatBiotech in collaboration with icmrniv Preclinical studies with small and large animals successfully completed Phase 1 human clinical trial completed Phase 2 human clinical trial ongoing</td>\n",
              "                        <td id=\"T_79d89fca_3887_11eb_b18a_0242ac1c0002row76_col1\" class=\"data row76 col1\" >0.723548</td>\n",
              "                        <td id=\"T_79d89fca_3887_11eb_b18a_0242ac1c0002row76_col2\" class=\"data row76 col2\" >1</td>\n",
              "                        <td id=\"T_79d89fca_3887_11eb_b18a_0242ac1c0002row76_col3\" class=\"data row76 col3\" >0</td>\n",
              "            </tr>\n",
              "            <tr>\n",
              "                        <th id=\"T_79d89fca_3887_11eb_b18a_0242ac1c0002level0_row77\" class=\"row_heading level0 row77\" >1708</th>\n",
              "                        <td id=\"T_79d89fca_3887_11eb_b18a_0242ac1c0002row77_col0\" class=\"data row77 col0\" >Black Americans are hospitalized for coronavirus at 4x the rate of White Americans  </td>\n",
              "                        <td id=\"T_79d89fca_3887_11eb_b18a_0242ac1c0002row77_col1\" class=\"data row77 col1\" >0.127791</td>\n",
              "                        <td id=\"T_79d89fca_3887_11eb_b18a_0242ac1c0002row77_col2\" class=\"data row77 col2\" >0</td>\n",
              "                        <td id=\"T_79d89fca_3887_11eb_b18a_0242ac1c0002row77_col3\" class=\"data row77 col3\" >1</td>\n",
              "            </tr>\n",
              "            <tr>\n",
              "                        <th id=\"T_79d89fca_3887_11eb_b18a_0242ac1c0002level0_row78\" class=\"row_heading level0 row78\" >1731</th>\n",
              "                        <td id=\"T_79d89fca_3887_11eb_b18a_0242ac1c0002row78_col0\" class=\"data row78 col0\" >A reminder about maintaining good hygiene wash your hands often cough or sneeze into your elbow and stay at home if youre unwell</td>\n",
              "                        <td id=\"T_79d89fca_3887_11eb_b18a_0242ac1c0002row78_col1\" class=\"data row78 col1\" >0.337545</td>\n",
              "                        <td id=\"T_79d89fca_3887_11eb_b18a_0242ac1c0002row78_col2\" class=\"data row78 col2\" >0</td>\n",
              "                        <td id=\"T_79d89fca_3887_11eb_b18a_0242ac1c0002row78_col3\" class=\"data row78 col3\" >1</td>\n",
              "            </tr>\n",
              "            <tr>\n",
              "                        <th id=\"T_79d89fca_3887_11eb_b18a_0242ac1c0002level0_row79\" class=\"row_heading level0 row79\" >1732</th>\n",
              "                        <td id=\"T_79d89fca_3887_11eb_b18a_0242ac1c0002row79_col0\" class=\"data row79 col0\" >COVID19       1000000    This week we will cross 1 million</td>\n",
              "                        <td id=\"T_79d89fca_3887_11eb_b18a_0242ac1c0002row79_col1\" class=\"data row79 col1\" >0.882341</td>\n",
              "                        <td id=\"T_79d89fca_3887_11eb_b18a_0242ac1c0002row79_col2\" class=\"data row79 col2\" >1</td>\n",
              "                        <td id=\"T_79d89fca_3887_11eb_b18a_0242ac1c0002row79_col3\" class=\"data row79 col3\" >0</td>\n",
              "            </tr>\n",
              "            <tr>\n",
              "                        <th id=\"T_79d89fca_3887_11eb_b18a_0242ac1c0002level0_row80\" class=\"row_heading level0 row80\" >1773</th>\n",
              "                        <td id=\"T_79d89fca_3887_11eb_b18a_0242ac1c0002row80_col0\" class=\"data row80 col0\" >While uncomfortable there no evidence that getting a COVID19 test could cause anything more serious than temporary irritation </td>\n",
              "                        <td id=\"T_79d89fca_3887_11eb_b18a_0242ac1c0002row80_col1\" class=\"data row80 col1\" >0.763852</td>\n",
              "                        <td id=\"T_79d89fca_3887_11eb_b18a_0242ac1c0002row80_col2\" class=\"data row80 col2\" >1</td>\n",
              "                        <td id=\"T_79d89fca_3887_11eb_b18a_0242ac1c0002row80_col3\" class=\"data row80 col3\" >0</td>\n",
              "            </tr>\n",
              "            <tr>\n",
              "                        <th id=\"T_79d89fca_3887_11eb_b18a_0242ac1c0002level0_row81\" class=\"row_heading level0 row81\" >1805</th>\n",
              "                        <td id=\"T_79d89fca_3887_11eb_b18a_0242ac1c0002row81_col0\" class=\"data row81 col0\" >The number of deaths from respiratory illnesses in Ireland this year is comparable to previous years and COVID19 is not causing any more deaths than would usually be happening</td>\n",
              "                        <td id=\"T_79d89fca_3887_11eb_b18a_0242ac1c0002row81_col1\" class=\"data row81 col1\" >0.532894</td>\n",
              "                        <td id=\"T_79d89fca_3887_11eb_b18a_0242ac1c0002row81_col2\" class=\"data row81 col2\" >1</td>\n",
              "                        <td id=\"T_79d89fca_3887_11eb_b18a_0242ac1c0002row81_col3\" class=\"data row81 col3\" >0</td>\n",
              "            </tr>\n",
              "            <tr>\n",
              "                        <th id=\"T_79d89fca_3887_11eb_b18a_0242ac1c0002level0_row82\" class=\"row_heading level0 row82\" >1820</th>\n",
              "                        <td id=\"T_79d89fca_3887_11eb_b18a_0242ac1c0002row82_col0\" class=\"data row82 col0\" >The outbreak of COVID19 CoronaVirus is now declared a Pandemic by the WHO </td>\n",
              "                        <td id=\"T_79d89fca_3887_11eb_b18a_0242ac1c0002row82_col1\" class=\"data row82 col1\" >0.119799</td>\n",
              "                        <td id=\"T_79d89fca_3887_11eb_b18a_0242ac1c0002row82_col2\" class=\"data row82 col2\" >0</td>\n",
              "                        <td id=\"T_79d89fca_3887_11eb_b18a_0242ac1c0002row82_col3\" class=\"data row82 col3\" >1</td>\n",
              "            </tr>\n",
              "            <tr>\n",
              "                        <th id=\"T_79d89fca_3887_11eb_b18a_0242ac1c0002level0_row83\" class=\"row_heading level0 row83\" >1823</th>\n",
              "                        <td id=\"T_79d89fca_3887_11eb_b18a_0242ac1c0002row83_col0\" class=\"data row83 col0\" >A rare case of transverse myelitis may be linked to the vaccine </td>\n",
              "                        <td id=\"T_79d89fca_3887_11eb_b18a_0242ac1c0002row83_col1\" class=\"data row83 col1\" >0.329822</td>\n",
              "                        <td id=\"T_79d89fca_3887_11eb_b18a_0242ac1c0002row83_col2\" class=\"data row83 col2\" >0</td>\n",
              "                        <td id=\"T_79d89fca_3887_11eb_b18a_0242ac1c0002row83_col3\" class=\"data row83 col3\" >1</td>\n",
              "            </tr>\n",
              "            <tr>\n",
              "                        <th id=\"T_79d89fca_3887_11eb_b18a_0242ac1c0002level0_row84\" class=\"row_heading level0 row84\" >1896</th>\n",
              "                        <td id=\"T_79d89fca_3887_11eb_b18a_0242ac1c0002row84_col0\" class=\"data row84 col0\" >This is a recent picture where hospitals show dogs inside the ward</td>\n",
              "                        <td id=\"T_79d89fca_3887_11eb_b18a_0242ac1c0002row84_col1\" class=\"data row84 col1\" >0.616735</td>\n",
              "                        <td id=\"T_79d89fca_3887_11eb_b18a_0242ac1c0002row84_col2\" class=\"data row84 col2\" >1</td>\n",
              "                        <td id=\"T_79d89fca_3887_11eb_b18a_0242ac1c0002row84_col3\" class=\"data row84 col3\" >0</td>\n",
              "            </tr>\n",
              "            <tr>\n",
              "                        <th id=\"T_79d89fca_3887_11eb_b18a_0242ac1c0002level0_row85\" class=\"row_heading level0 row85\" >1929</th>\n",
              "                        <td id=\"T_79d89fca_3887_11eb_b18a_0242ac1c0002row85_col0\" class=\"data row85 col0\" >Yemen is currently suffering from three emergencies  the war the hunger and the coronavirus Disasters Emergency Committees Saleh Saeed says 1 in 4 people who contract COVID19 in Yemen die  one of the highest death rates in the world  Breakfast </td>\n",
              "                        <td id=\"T_79d89fca_3887_11eb_b18a_0242ac1c0002row85_col1\" class=\"data row85 col1\" >0.155439</td>\n",
              "                        <td id=\"T_79d89fca_3887_11eb_b18a_0242ac1c0002row85_col2\" class=\"data row85 col2\" >0</td>\n",
              "                        <td id=\"T_79d89fca_3887_11eb_b18a_0242ac1c0002row85_col3\" class=\"data row85 col3\" >1</td>\n",
              "            </tr>\n",
              "            <tr>\n",
              "                        <th id=\"T_79d89fca_3887_11eb_b18a_0242ac1c0002level0_row86\" class=\"row_heading level0 row86\" >1977</th>\n",
              "                        <td id=\"T_79d89fca_3887_11eb_b18a_0242ac1c0002row86_col0\" class=\"data row86 col0\" >Coronavirus Horror fans coping better with pandemic according to research </td>\n",
              "                        <td id=\"T_79d89fca_3887_11eb_b18a_0242ac1c0002row86_col1\" class=\"data row86 col1\" >0.282569</td>\n",
              "                        <td id=\"T_79d89fca_3887_11eb_b18a_0242ac1c0002row86_col2\" class=\"data row86 col2\" >0</td>\n",
              "                        <td id=\"T_79d89fca_3887_11eb_b18a_0242ac1c0002row86_col3\" class=\"data row86 col3\" >1</td>\n",
              "            </tr>\n",
              "            <tr>\n",
              "                        <th id=\"T_79d89fca_3887_11eb_b18a_0242ac1c0002level0_row87\" class=\"row_heading level0 row87\" >1993</th>\n",
              "                        <td id=\"T_79d89fca_3887_11eb_b18a_0242ac1c0002row87_col0\" class=\"data row87 col0\" >RT SurgeonGeneral Say it with me America COVIDStopsWithMe COVID19 </td>\n",
              "                        <td id=\"T_79d89fca_3887_11eb_b18a_0242ac1c0002row87_col1\" class=\"data row87 col1\" >0.193210</td>\n",
              "                        <td id=\"T_79d89fca_3887_11eb_b18a_0242ac1c0002row87_col2\" class=\"data row87 col2\" >0</td>\n",
              "                        <td id=\"T_79d89fca_3887_11eb_b18a_0242ac1c0002row87_col3\" class=\"data row87 col3\" >1</td>\n",
              "            </tr>\n",
              "            <tr>\n",
              "                        <th id=\"T_79d89fca_3887_11eb_b18a_0242ac1c0002level0_row88\" class=\"row_heading level0 row88\" >2003</th>\n",
              "                        <td id=\"T_79d89fca_3887_11eb_b18a_0242ac1c0002row88_col0\" class=\"data row88 col0\" >Hello Thyrocare team is COVID19 test done at your lab not acceptable due to ban imposed by BMC Can you please clarify if the ban been uplifted by BMC</td>\n",
              "                        <td id=\"T_79d89fca_3887_11eb_b18a_0242ac1c0002row88_col1\" class=\"data row88 col1\" >0.712289</td>\n",
              "                        <td id=\"T_79d89fca_3887_11eb_b18a_0242ac1c0002row88_col2\" class=\"data row88 col2\" >1</td>\n",
              "                        <td id=\"T_79d89fca_3887_11eb_b18a_0242ac1c0002row88_col3\" class=\"data row88 col3\" >0</td>\n",
              "            </tr>\n",
              "            <tr>\n",
              "                        <th id=\"T_79d89fca_3887_11eb_b18a_0242ac1c0002level0_row89\" class=\"row_heading level0 row89\" >2079</th>\n",
              "                        <td id=\"T_79d89fca_3887_11eb_b18a_0242ac1c0002row89_col0\" class=\"data row89 col0\" >COVID19 mortality rate in Black Americans is 4x that of white double what the CDC reports  </td>\n",
              "                        <td id=\"T_79d89fca_3887_11eb_b18a_0242ac1c0002row89_col1\" class=\"data row89 col1\" >0.168333</td>\n",
              "                        <td id=\"T_79d89fca_3887_11eb_b18a_0242ac1c0002row89_col2\" class=\"data row89 col2\" >0</td>\n",
              "                        <td id=\"T_79d89fca_3887_11eb_b18a_0242ac1c0002row89_col3\" class=\"data row89 col3\" >1</td>\n",
              "            </tr>\n",
              "            <tr>\n",
              "                        <th id=\"T_79d89fca_3887_11eb_b18a_0242ac1c0002level0_row90\" class=\"row_heading level0 row90\" >2083</th>\n",
              "                        <td id=\"T_79d89fca_3887_11eb_b18a_0242ac1c0002row90_col0\" class=\"data row90 col0\" >Didnt get a chance to tune in to our discussion with drsanjaygupta yesterday You can watch the full QampA on COVID19 with PolitiFact Editor AngieHolan and MediaWises AlexMahadevan here </td>\n",
              "                        <td id=\"T_79d89fca_3887_11eb_b18a_0242ac1c0002row90_col1\" class=\"data row90 col1\" >0.860589</td>\n",
              "                        <td id=\"T_79d89fca_3887_11eb_b18a_0242ac1c0002row90_col2\" class=\"data row90 col2\" >1</td>\n",
              "                        <td id=\"T_79d89fca_3887_11eb_b18a_0242ac1c0002row90_col3\" class=\"data row90 col3\" >0</td>\n",
              "            </tr>\n",
              "            <tr>\n",
              "                        <th id=\"T_79d89fca_3887_11eb_b18a_0242ac1c0002level0_row91\" class=\"row_heading level0 row91\" >2087</th>\n",
              "                        <td id=\"T_79d89fca_3887_11eb_b18a_0242ac1c0002row91_col0\" class=\"data row91 col0\" >JohnRentoul The virus is out there world wide No amount of local or national lockdown will contain it maybe slow it down a tad whilst were shut indoors but then itll be back</td>\n",
              "                        <td id=\"T_79d89fca_3887_11eb_b18a_0242ac1c0002row91_col1\" class=\"data row91 col1\" >0.935201</td>\n",
              "                        <td id=\"T_79d89fca_3887_11eb_b18a_0242ac1c0002row91_col2\" class=\"data row91 col2\" >1</td>\n",
              "                        <td id=\"T_79d89fca_3887_11eb_b18a_0242ac1c0002row91_col3\" class=\"data row91 col3\" >0</td>\n",
              "            </tr>\n",
              "            <tr>\n",
              "                        <th id=\"T_79d89fca_3887_11eb_b18a_0242ac1c0002level0_row92\" class=\"row_heading level0 row92\" >2094</th>\n",
              "                        <td id=\"T_79d89fca_3887_11eb_b18a_0242ac1c0002row92_col0\" class=\"data row92 col0\" >Carrefour is offering a R 300 voucher for families in need during the COVID19 crisis</td>\n",
              "                        <td id=\"T_79d89fca_3887_11eb_b18a_0242ac1c0002row92_col1\" class=\"data row92 col1\" >0.560337</td>\n",
              "                        <td id=\"T_79d89fca_3887_11eb_b18a_0242ac1c0002row92_col2\" class=\"data row92 col2\" >1</td>\n",
              "                        <td id=\"T_79d89fca_3887_11eb_b18a_0242ac1c0002row92_col3\" class=\"data row92 col3\" >0</td>\n",
              "            </tr>\n",
              "            <tr>\n",
              "                        <th id=\"T_79d89fca_3887_11eb_b18a_0242ac1c0002level0_row93\" class=\"row_heading level0 row93\" >2113</th>\n",
              "                        <td id=\"T_79d89fca_3887_11eb_b18a_0242ac1c0002row93_col0\" class=\"data row93 col0\" >Its being reported that NC DHHS is telling hospitals that if they decide to do elective surgeries they wont be eligible to receive PPE from the state The heavy hand of government I hope Secretary Cohen will reverse course NCDHHS COVID19NC ncpol</td>\n",
              "                        <td id=\"T_79d89fca_3887_11eb_b18a_0242ac1c0002row93_col1\" class=\"data row93 col1\" >0.860111</td>\n",
              "                        <td id=\"T_79d89fca_3887_11eb_b18a_0242ac1c0002row93_col2\" class=\"data row93 col2\" >1</td>\n",
              "                        <td id=\"T_79d89fca_3887_11eb_b18a_0242ac1c0002row93_col3\" class=\"data row93 col3\" >0</td>\n",
              "            </tr>\n",
              "            <tr>\n",
              "                        <th id=\"T_79d89fca_3887_11eb_b18a_0242ac1c0002level0_row94\" class=\"row_heading level0 row94\" >2114</th>\n",
              "                        <td id=\"T_79d89fca_3887_11eb_b18a_0242ac1c0002row94_col0\" class=\"data row94 col0\" >Just a thought Expenditures of Y security Should be borne by KanganaTeam in this pandemic Critical economic crisis HMOIndia PMOIndia </td>\n",
              "                        <td id=\"T_79d89fca_3887_11eb_b18a_0242ac1c0002row94_col1\" class=\"data row94 col1\" >0.752860</td>\n",
              "                        <td id=\"T_79d89fca_3887_11eb_b18a_0242ac1c0002row94_col2\" class=\"data row94 col2\" >1</td>\n",
              "                        <td id=\"T_79d89fca_3887_11eb_b18a_0242ac1c0002row94_col3\" class=\"data row94 col3\" >0</td>\n",
              "            </tr>\n",
              "    </tbody></table>"
            ],
            "text/plain": [
              "<pandas.io.formats.style.Styler at 0x7efb93483b70>"
            ]
          },
          "metadata": {
            "tags": []
          },
          "execution_count": 30
        }
      ]
    }
  ]
}